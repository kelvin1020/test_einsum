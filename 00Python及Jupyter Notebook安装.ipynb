{
 "cells": [
  {
   "cell_type": "markdown",
   "metadata": {},
   "source": [
    "<div style=\"text-indent:20em\">\n",
    "<font color=#000000 size =5><b>Anaconda及Gravipy的安装</b></font>\n",
    "\n",
    "<div style=\"text-indent:40em\">\n",
    "<p> <b>中科院上海天文台 杨舒程</b></p>"
   ]
  },
  {
   "cell_type": "markdown",
   "metadata": {},
   "source": [
    "<div style=\"text-indent:2em\">\n",
    "\n",
    "<B>Python</B>\n",
    "<p>Python是⼀种好⽤⼜实⽤的编程语⾔，Python的⼀⼤优点就是其拥有丰富的科学计算软件包，⽽我们推荐的GraviPy就是\n",
    "Python的⼀个可以进⾏⼴义相对论符号计算的包。</p>\n",
    "\n",
    "<B>Anaconda</B>\n",
    "<p>Python的科学计算包很多, ⼀个⼀个下载的话会⽐较麻烦，⽽Anaconda就是这样⼀个将Python及其主要的科学计算包整合起来的⼀个软件套装，它还含包含Spyder, Jupyter Notebook等⽤于Python编程的实⽤⼯具。</p>\n",
    "\n",
    "<B>Gravipy</B>\n",
    "<p>Gravipy是Python的一个用于广义相对论的科学计算包，可以方便地定义度规，计算克氏记号，Ricci张量等</p>\n",
    "\n",
    "<p>下面将介绍Anaconda和Gravipy的安装：</p>\n",
    "\n",
    "<font color=#DC143C size =3></font>\n",
    "<font color=#000000 size =3></font>"
   ]
  },
  {
   "cell_type": "markdown",
   "metadata": {},
   "source": [
    "# 首先，我们登录Anaconda的官网 (https://www.anaconda.com/products/individual) 下载Anaconda\n",
    "\n",
    "![](./pic/0.png)"
   ]
  },
  {
   "cell_type": "markdown",
   "metadata": {},
   "source": [
    "# 下面对64位windows下的安装进行介绍\n"
   ]
  },
  {
   "cell_type": "markdown",
   "metadata": {},
   "source": [
    "<div style=\"text-indent:2em\">\n",
    "<p>下载后的安装包应该是这个样子</p>\n",
    "    \n",
    "![](./pic/1图标1.jpeg)"
   ]
  },
  {
   "cell_type": "markdown",
   "metadata": {},
   "source": [
    "# 点击进行安装\n",
    "\n",
    "![](./pic/2安装窗口2.jpeg)"
   ]
  },
  {
   "cell_type": "markdown",
   "metadata": {
    "collapsed": true
   },
   "source": [
    "<div style=\"text-indent:2em\">\n",
    "<p>一步一步按照提示进行安装，一般默认项就可以的</p>\n",
    "    \n",
    "![](./pic/3协议3.jpeg)"
   ]
  },
  {
   "cell_type": "markdown",
   "metadata": {
    "collapsed": true
   },
   "source": [
    "![](./4选择用户4.jpeg)"
   ]
  },
  {
   "cell_type": "markdown",
   "metadata": {
    "collapsed": true
   },
   "source": [
    "![](./5安装路径51.jpeg)"
   ]
  },
  {
   "cell_type": "markdown",
   "metadata": {
    "collapsed": true
   },
   "source": [
    "![](./6安装选择6.jpeg)"
   ]
  },
  {
   "cell_type": "markdown",
   "metadata": {
    "collapsed": true
   },
   "source": [
    "<div style=\"text-indent:2em\">\n",
    "<p>安装过程</p>\n",
    "    \n",
    "![](./pic/7安装过程7.jpeg)"
   ]
  },
  {
   "cell_type": "markdown",
   "metadata": {
    "collapsed": true
   },
   "source": [
    "<div style=\"text-indent:2em\">\n",
    "<p>安装完成</p>\n",
    "\n",
    "![](./pic/8安装完成8.jpeg)"
   ]
  },
  {
   "cell_type": "markdown",
   "metadata": {
    "collapsed": true
   },
   "source": [
    "<div style=\"text-indent:2em\">\n",
    "<p>点击跳过，不安装Microsoft VScode</p>\n",
    "    \n",
    "![](./pic/9安装完成29.jpeg)"
   ]
  },
  {
   "cell_type": "markdown",
   "metadata": {
    "collapsed": true
   },
   "source": [
    "<div style=\"text-indent:2em\">\n",
    "<p>安装完成，复选框可以不选</p>\n",
    "    \n",
    "![](./pic/9安装完成3.jpeg)"
   ]
  },
  {
   "cell_type": "markdown",
   "metadata": {},
   "source": [
    "4、下面我们来安装本课程所需要的graivpy模块，打开开始菜单中已装好的Jupyter notebook\n",
    "\n",
    "![](./pic/10.1.2.jpeg)\n"
   ]
  },
  {
   "cell_type": "markdown",
   "metadata": {},
   "source": [
    "<div style=\"text-indent:2em\">\n",
    "    <B>Jupyter Notebook</B>    \n",
    "    \n",
    "<p>Jupyter Notebook是一个基于浏览器的交互式笔记本，可以运行Python代码，能快速实现验证一些想法，同时可以编写文本，其支持HTML语言和LaTex公式输入，</p>\n",
    "\n",
    "#  我们打开Jupyter Notebook\n",
    "\n",
    "\n",
    "![](./pic/Jupyter_Notebook.jpeg)"
   ]
  },
  {
   "cell_type": "markdown",
   "metadata": {},
   "source": [
    "然后新建一个终端（点击New - Terminal)"
   ]
  },
  {
   "cell_type": "markdown",
   "metadata": {},
   "source": [
    "![](./pic/10.3.jpeg)"
   ]
  },
  {
   "cell_type": "markdown",
   "metadata": {},
   "source": [
    "![](./10.5.jpeg)"
   ]
  },
  {
   "cell_type": "markdown",
   "metadata": {},
   "source": [
    "<div style=\"text-indent:2em\">\n",
    "<p>输入以下命令安装gravipy</p>\n",
    "<blockquote>pip install gravipy</blockquote>\n"
   ]
  },
  {
   "cell_type": "markdown",
   "metadata": {},
   "source": [
    "安装完毕后，本次课程所需的基本python环境就安装好了，开始新的探索吧！"
   ]
  },
  {
   "cell_type": "markdown",
   "metadata": {},
   "source": [
    "# 补充"
   ]
  },
  {
   "cell_type": "markdown",
   "metadata": {},
   "source": [
    "<div style=\"text-indent:2em\">\n",
    "<p>菜单中Anaconda3下还有Spyder</p>\n",
    "    \n",
    "![](./pic/10.1.2.jpeg)"
   ]
  },
  {
   "cell_type": "markdown",
   "metadata": {},
   "source": [
    "<div style=\"text-indent:2em\">\n",
    "<p>Spyder是一个用于编写、调试Python程序的集成开发环境，大家可以自己探索一下</p>\n",
    "\n",
    "Ps: 个人认为还是Jupyter Notebook比较好用\n",
    "![](./pic/spyder.jpeg)"
   ]
  }
 ],
 "metadata": {
  "hide_input": false,
  "kernelspec": {
   "display_name": "Python 3",
   "language": "python",
   "name": "python3"
  },
  "language_info": {
   "codemirror_mode": {
    "name": "ipython",
    "version": 3
   },
   "file_extension": ".py",
   "mimetype": "text/x-python",
   "name": "python",
   "nbconvert_exporter": "python",
   "pygments_lexer": "ipython3",
   "version": "3.7.3"
  },
  "latex_envs": {
   "LaTeX_envs_menu_present": true,
   "autoclose": false,
   "autocomplete": true,
   "bibliofile": "biblio.bib",
   "cite_by": "apalike",
   "current_citInitial": 1,
   "eqLabelWithNumbers": true,
   "eqNumInitial": 1,
   "hotkeys": {
    "equation": "Ctrl-E",
    "itemize": "Ctrl-I"
   },
   "labels_anchors": false,
   "latex_user_defs": false,
   "report_style_numbering": false,
   "user_envs_cfg": false
  },
  "toc": {
   "base_numbering": 1,
   "nav_menu": {},
   "number_sections": true,
   "sideBar": true,
   "skip_h1_title": false,
   "title_cell": "Table of Contents",
   "title_sidebar": "Contents",
   "toc_cell": false,
   "toc_position": {},
   "toc_section_display": true,
   "toc_window_display": false
  },
  "varInspector": {
   "cols": {
    "lenName": 16,
    "lenType": 16,
    "lenVar": 40
   },
   "kernels_config": {
    "python": {
     "delete_cmd_postfix": "",
     "delete_cmd_prefix": "del ",
     "library": "var_list.py",
     "varRefreshCmd": "print(var_dic_list())"
    },
    "r": {
     "delete_cmd_postfix": ") ",
     "delete_cmd_prefix": "rm(",
     "library": "var_list.r",
     "varRefreshCmd": "cat(var_dic_list()) "
    }
   },
   "types_to_exclude": [
    "module",
    "function",
    "builtin_function_or_method",
    "instance",
    "_Feature"
   ],
   "window_display": false
  }
 },
 "nbformat": 4,
 "nbformat_minor": 2
}
