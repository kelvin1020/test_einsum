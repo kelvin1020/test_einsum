{
 "cells": [
  {
   "cell_type": "markdown",
   "metadata": {},
   "source": [
    "# GraviPy - tutorial"
   ]
  },
  {
   "cell_type": "markdown",
   "metadata": {},
   "source": [
    "## _Coordinates_ and _MetricTensor_"
   ]
  },
  {
   "cell_type": "markdown",
   "metadata": {},
   "source": [
    "To start working with the gravipy package you must load the package and initialize a pretty-printing mode in Jupyter environment"
   ]
  },
  {
   "cell_type": "code",
   "execution_count": 1,
   "metadata": {
    "jupyter": {
     "outputs_hidden": false
    }
   },
   "outputs": [],
   "source": [
    "from gravipy.tensorial import * # import GraviPy package\n",
    "from sympy import init_printing\n",
    "import inspect\n",
    "init_printing()"
   ]
  },
  {
   "cell_type": "markdown",
   "metadata": {},
   "source": [
    "The next step is to choose coordinates and define a metric tensor of a particular space. Let's take, for example, the Schwarzschild metric - vacuum solution to the Einstein's field equations which describes the gravitational field of a spherical mass distribution."
   ]
  },
  {
   "cell_type": "code",
   "execution_count": 2,
   "metadata": {
    "jupyter": {
     "outputs_hidden": false
    }
   },
   "outputs": [],
   "source": [
    "# define some symbolic variables \n",
    "# G = 6.67e-11\n",
    "# c = 3e8\n",
    "\n",
    "t, r, theta, phi, M, c, G = symbols('t, r, \\\\theta, \\phi, M, c, G')\n",
    "# create a coordinate four-vector object instantiating \n",
    "# the Coordinates class\n",
    "x = Coordinates('\\chi', [t, r, theta, phi])\n",
    "# define a matrix of a metric tensor components  \n",
    "Metric = diag(-(1-2*G*M/c**2/r)*c**2, 1/(1-2*G*M/c**2/r), r**2, r**2*sin(theta)**2)  \n",
    "# create a metric tensor object instantiating the MetricTensor class \n",
    "g = MetricTensor('g', x, Metric)"
   ]
  },
  {
   "cell_type": "markdown",
   "metadata": {},
   "source": [
    "Each component of any tensor object, can be computed by calling the appropriate instance of the _GeneralTensor_ subclass with indices as arguments. The covariant indices take positive integer values (1, 2, ..., dim). The contravariant indices take negative values (-dim, ..., -2, -1).  "
   ]
  },
  {
   "cell_type": "code",
   "execution_count": 3,
   "metadata": {
    "jupyter": {
     "outputs_hidden": false
    },
    "scrolled": true
   },
   "outputs": [
    {
     "data": {
      "image/png": "[encoded data removed]",
      "text/latex": [
       "$\\displaystyle t$"
      ],
      "text/plain": [
       "t"
      ]
     },
     "execution_count": 3,
     "metadata": {},
     "output_type": "execute_result"
    }
   ],
   "source": [
    "x(-1)"
   ]
  },
  {
   "cell_type": "code",
   "execution_count": 4,
   "metadata": {
    "jupyter": {
     "outputs_hidden": false
    }
   },
   "outputs": [
    {
     "data": {
      "image/png": "[encoded data removed]",
      "text/latex": [
       "$\\displaystyle c^{2} t \\left(\\frac{2 G M}{c^{2} r} - 1\\right)$"
      ],
      "text/plain": [
       " 2   ⎛2⋅G⋅M    ⎞\n",
       "c ⋅t⋅⎜───── - 1⎟\n",
       "     ⎜  2      ⎟\n",
       "     ⎝ c ⋅r    ⎠"
      ]
     },
     "execution_count": 4,
     "metadata": {},
     "output_type": "execute_result"
    }
   ],
   "source": [
    "x(1)"
   ]
  },
  {
   "cell_type": "code",
   "execution_count": 5,
   "metadata": {
    "jupyter": {
     "outputs_hidden": false
    }
   },
   "outputs": [
    {
     "data": {
      "image/png": "[encoded data removed]",
      "text/latex": [
       "$\\displaystyle c^{2} \\left(\\frac{2 G M}{c^{2} r} - 1\\right)$"
      ],
      "text/plain": [
       " 2 ⎛2⋅G⋅M    ⎞\n",
       "c ⋅⎜───── - 1⎟\n",
       "   ⎜  2      ⎟\n",
       "   ⎝ c ⋅r    ⎠"
      ]
     },
     "execution_count": 5,
     "metadata": {},
     "output_type": "execute_result"
    }
   ],
   "source": [
    "g(1, 1)"
   ]
  },
  {
   "cell_type": "code",
   "execution_count": 6,
   "metadata": {
    "jupyter": {
     "outputs_hidden": false
    }
   },
   "outputs": [
    {
     "data": {
      "image/png": "[encoded data removed]",
      "text/latex": [
       "$\\displaystyle \\frac{1}{c^{2} \\left(\\frac{2 G M}{c^{2} r} - 1\\right)}$"
      ],
      "text/plain": [
       "      1       \n",
       "──────────────\n",
       " 2 ⎛2⋅G⋅M    ⎞\n",
       "c ⋅⎜───── - 1⎟\n",
       "   ⎜  2      ⎟\n",
       "   ⎝ c ⋅r    ⎠"
      ]
     },
     "execution_count": 6,
     "metadata": {},
     "output_type": "execute_result"
    }
   ],
   "source": [
    "g(-1, -1)"
   ]
  },
  {
   "cell_type": "markdown",
   "metadata": {},
   "source": [
    "Matrix representation of a tensor can be obtained in the following way"
   ]
  },
  {
   "cell_type": "code",
   "execution_count": 7,
   "metadata": {
    "jupyter": {
     "outputs_hidden": false
    }
   },
   "outputs": [
    {
     "data": {
      "image/png": "[encoded data removed]",
      "text/latex": [
       "$\\displaystyle \\left[\\begin{matrix}t & r & \\theta & \\phi\\end{matrix}\\right]$"
      ],
      "text/plain": [
       "[t  r  \\theta  \\phi]"
      ]
     },
     "execution_count": 7,
     "metadata": {},
     "output_type": "execute_result"
    }
   ],
   "source": [
    "x(-All)"
   ]
  },
  {
   "cell_type": "code",
   "execution_count": 8,
   "metadata": {
    "jupyter": {
     "outputs_hidden": false
    }
   },
   "outputs": [
    {
     "data": {
      "image/png": "[encoded data removed]",
      "text/latex": [
       "$\\displaystyle \\left[\\begin{matrix}c^{2} \\left(\\frac{2 G M}{c^{2} r} - 1\\right) & 0 & 0 & 0\\\\0 & \\frac{1}{- \\frac{2 G M}{c^{2} r} + 1} & 0 & 0\\\\0 & 0 & r^{2} & 0\\\\0 & 0 & 0 & r^{2} \\sin^{2}{\\left(\\theta \\right)}\\end{matrix}\\right]$"
      ],
      "text/plain": [
       "⎡ 2 ⎛2⋅G⋅M    ⎞                                  ⎤\n",
       "⎢c ⋅⎜───── - 1⎟       0       0          0       ⎥\n",
       "⎢   ⎜  2      ⎟                                  ⎥\n",
       "⎢   ⎝ c ⋅r    ⎠                                  ⎥\n",
       "⎢                                                ⎥\n",
       "⎢                     1                          ⎥\n",
       "⎢      0         ───────────  0          0       ⎥\n",
       "⎢                  2⋅G⋅M                         ⎥\n",
       "⎢                - ───── + 1                     ⎥\n",
       "⎢                    2                           ⎥\n",
       "⎢                   c ⋅r                         ⎥\n",
       "⎢                                                ⎥\n",
       "⎢                              2                 ⎥\n",
       "⎢      0              0       r          0       ⎥\n",
       "⎢                                                ⎥\n",
       "⎢                                  2    2        ⎥\n",
       "⎣      0              0       0   r ⋅sin (\\theta)⎦"
      ]
     },
     "execution_count": 8,
     "metadata": {},
     "output_type": "execute_result"
    }
   ],
   "source": [
    "g(All, All)"
   ]
  },
  {
   "cell_type": "code",
   "execution_count": 9,
   "metadata": {
    "jupyter": {
     "outputs_hidden": false
    }
   },
   "outputs": [
    {
     "data": {
      "image/png": "[encoded data removed]",
      "text/latex": [
       "$\\displaystyle \\left[\\begin{matrix}\\frac{1}{c^{2} \\left(\\frac{2 G M}{c^{2} r} - 1\\right)} & 0 & 0 & 0\\\\0 & - \\frac{2 G M}{c^{2} r} + 1 & 0 & 0\\\\0 & 0 & \\frac{1}{r^{2}} & 0\\\\0 & 0 & 0 & \\frac{1}{r^{2} \\sin^{2}{\\left(\\theta \\right)}}\\end{matrix}\\right]$"
      ],
      "text/plain": [
       "⎡      1                                         ⎤\n",
       "⎢──────────────       0       0          0       ⎥\n",
       "⎢ 2 ⎛2⋅G⋅M    ⎞                                  ⎥\n",
       "⎢c ⋅⎜───── - 1⎟                                  ⎥\n",
       "⎢   ⎜  2      ⎟                                  ⎥\n",
       "⎢   ⎝ c ⋅r    ⎠                                  ⎥\n",
       "⎢                                                ⎥\n",
       "⎢                  2⋅G⋅M                         ⎥\n",
       "⎢      0         - ───── + 1  0          0       ⎥\n",
       "⎢                    2                           ⎥\n",
       "⎢                   c ⋅r                         ⎥\n",
       "⎢                                                ⎥\n",
       "⎢                             1                  ⎥\n",
       "⎢      0              0       ──         0       ⎥\n",
       "⎢                              2                 ⎥\n",
       "⎢                             r                  ⎥\n",
       "⎢                                                ⎥\n",
       "⎢                                        1       ⎥\n",
       "⎢      0              0       0   ───────────────⎥\n",
       "⎢                                  2    2        ⎥\n",
       "⎣                                 r ⋅sin (\\theta)⎦"
      ]
     },
     "execution_count": 9,
     "metadata": {},
     "output_type": "execute_result"
    }
   ],
   "source": [
    "g(-All, -All)"
   ]
  },
  {
   "cell_type": "code",
   "execution_count": 10,
   "metadata": {
    "jupyter": {
     "outputs_hidden": false
    }
   },
   "outputs": [
    {
     "data": {
      "image/png": "[encoded data removed]",
      "text/latex": [
       "$\\displaystyle \\left[\\begin{matrix}0 & 0 & 0 & r^{2} \\sin^{2}{\\left(\\theta \\right)}\\end{matrix}\\right]$"
      ],
      "text/plain": [
       "⎡          2    2        ⎤\n",
       "⎣0  0  0  r ⋅sin (\\theta)⎦"
      ]
     },
     "execution_count": 10,
     "metadata": {},
     "output_type": "execute_result"
    }
   ],
   "source": [
    "g(All, 4)"
   ]
  },
  {
   "cell_type": "markdown",
   "metadata": {},
   "source": [
    "## Predefined _Tensor_ Classes"
   ]
  },
  {
   "cell_type": "markdown",
   "metadata": {},
   "source": [
    "The GraviPy package contains a number of the _Tensor_ subclasses that can be used to calculate a tensor components. The _Tensor_ subclasses available in the current version of GraviPy package are"
   ]
  },
  {
   "cell_type": "code",
   "execution_count": 11,
   "metadata": {
    "jupyter": {
     "outputs_hidden": false
    }
   },
   "outputs": [
    {
     "name": "stdout",
     "output_type": "stream",
     "text": [
      "['Christoffel', 'Ricci', 'Riemann', 'Einstein', 'Geodesic']\n"
     ]
    }
   ],
   "source": [
    "print([cls.__name__ for cls in vars()['Tensor'].__subclasses__()])"
   ]
  },
  {
   "cell_type": "markdown",
   "metadata": {},
   "source": [
    "### The _Christoffel_ symbols"
   ]
  },
  {
   "cell_type": "markdown",
   "metadata": {},
   "source": [
    "The first one is the _Christoffel_ class that represents Christoffel symbols of the first and second kind. (Note that the Christoffel symbols are not tensors) Components of the _Christoffel_ objects are computed from the below formula "
   ]
  },
  {
   "cell_type": "markdown",
   "metadata": {},
   "source": [
    "$$ \\Gamma_{\\rho \\mu \\nu} = g_{\\rho \\sigma}\\Gamma^{\\sigma}_{\\ \\mu \\nu} = \\frac{1}{2}(g_{\\rho \\mu, \\nu} + g_{\\rho \\nu, \\mu} - g_{\\mu \\nu, \\rho})$$\n"
   ]
  },
  {
   "cell_type": "markdown",
   "metadata": {},
   "source": [
    "Let's create an instance of the _Christoffel_ class for the Schwarzschild metric g and compute some components of the object"
   ]
  },
  {
   "cell_type": "code",
   "execution_count": 12,
   "metadata": {
    "jupyter": {
     "outputs_hidden": false
    }
   },
   "outputs": [
    {
     "data": {
      "image/png": "[encoded data removed]",
      "text/latex": [
       "$\\displaystyle 0$"
      ],
      "text/plain": [
       "0"
      ]
     },
     "execution_count": 12,
     "metadata": {},
     "output_type": "execute_result"
    }
   ],
   "source": [
    "Ga = Christoffel('Ga', g)\n",
    "Ga(1, 1, 1)"
   ]
  },
  {
   "cell_type": "markdown",
   "metadata": {},
   "source": [
    "Each component of the _Tensor_ object is computed only once due to memoization procedure implemented in the _Tensor_ class. Computed value of a tensor component is stored in _components_ dictionary (attribute of a _Tensor_ instance) and returned by the next call to the instance."
   ]
  },
  {
   "cell_type": "code",
   "execution_count": 13,
   "metadata": {
    "jupyter": {
     "outputs_hidden": false
    }
   },
   "outputs": [
    {
     "data": {
      "image/png": "[encoded data removed]",
      "text/latex": [
       "$\\displaystyle \\left\\{ \\left( 1, \\  1, \\  1\\right) : 0\\right\\}$"
      ],
      "text/plain": [
       "{(1, 1, 1): 0}"
      ]
     },
     "execution_count": 13,
     "metadata": {},
     "output_type": "execute_result"
    }
   ],
   "source": [
    "Ga.components"
   ]
  },
  {
   "cell_type": "markdown",
   "metadata": {},
   "source": [
    "The above dictionary consists of two elements because the symmetry of the Christoffel symbols is implemented in the _Christoffel_ class. "
   ]
  },
  {
   "cell_type": "markdown",
   "metadata": {},
   "source": [
    "If necessary, you can clear the _components_ dictionary"
   ]
  },
  {
   "cell_type": "code",
   "execution_count": 14,
   "metadata": {
    "jupyter": {
     "outputs_hidden": false
    }
   },
   "outputs": [
    {
     "data": {
      "image/png": "[encoded data removed]",
      "text/latex": [
       "$\\displaystyle \\left\\{ \\right\\}$"
      ],
      "text/plain": [
       "{}"
      ]
     },
     "execution_count": 14,
     "metadata": {},
     "output_type": "execute_result"
    }
   ],
   "source": [
    "Ga.components = {}\n",
    "Ga.components"
   ]
  },
  {
   "cell_type": "code",
   "execution_count": 15,
   "metadata": {},
   "outputs": [
    {
     "data": {
      "image/png": "[encoded data removed]",
      "text/latex": [
       "$\\displaystyle \\frac{r^{2} \\sin{\\left(2 \\theta \\right)}}{2}$"
      ],
      "text/plain": [
       " 2              \n",
       "r ⋅sin(2⋅\\theta)\n",
       "────────────────\n",
       "       2        "
      ]
     },
     "execution_count": 15,
     "metadata": {},
     "output_type": "execute_result"
    }
   ],
   "source": [
    "Ga(4, 3, 4)"
   ]
  },
  {
   "cell_type": "code",
   "execution_count": 16,
   "metadata": {},
   "outputs": [
    {
     "data": {
      "image/png": "[encoded data removed]",
      "text/latex": [
       "$\\displaystyle \\left\\{ \\left( 4, \\  3, \\  4\\right) : \\frac{r^{2} \\sin{\\left(2 \\theta \\right)}}{2}, \\  \\left( 4, \\  4, \\  3\\right) : \\frac{r^{2} \\sin{\\left(2 \\theta \\right)}}{2}\\right\\}$"
      ],
      "text/plain": [
       "⎧            2                            2              ⎫\n",
       "⎪           r ⋅sin(2⋅\\theta)             r ⋅sin(2⋅\\theta)⎪\n",
       "⎨(4, 3, 4): ────────────────, (4, 4, 3): ────────────────⎬\n",
       "⎪                  2                            2        ⎪\n",
       "⎩                                                        ⎭"
      ]
     },
     "execution_count": 16,
     "metadata": {},
     "output_type": "execute_result"
    }
   ],
   "source": [
    "Ga.components"
   ]
  },
  {
   "cell_type": "code",
   "execution_count": 17,
   "metadata": {},
   "outputs": [
    {
     "data": {
      "image/png": "[encoded data removed]",
      "text/latex": [
       "$\\displaystyle 0$"
      ],
      "text/plain": [
       "0"
      ]
     },
     "execution_count": 17,
     "metadata": {},
     "output_type": "execute_result"
    }
   ],
   "source": [
    "Ga(1, 3, 4)"
   ]
  },
  {
   "cell_type": "code",
   "execution_count": 18,
   "metadata": {},
   "outputs": [
    {
     "data": {
      "image/png": "[encoded data removed]",
      "text/latex": [
       "$\\displaystyle \\left\\{ \\left( 1, \\  3, \\  4\\right) : 0, \\  \\left( 1, \\  4, \\  3\\right) : 0, \\  \\left( 4, \\  3, \\  4\\right) : \\frac{r^{2} \\sin{\\left(2 \\theta \\right)}}{2}, \\  \\left( 4, \\  4, \\  3\\right) : \\frac{r^{2} \\sin{\\left(2 \\theta \\right)}}{2}\\right\\}$"
      ],
      "text/plain": [
       "⎧                                        2                            2       \n",
       "⎪                                       r ⋅sin(2⋅\\theta)             r ⋅sin(2⋅\n",
       "⎨(1, 3, 4): 0, (1, 4, 3): 0, (4, 3, 4): ────────────────, (4, 4, 3): ─────────\n",
       "⎪                                              2                            2 \n",
       "⎩                                                                             \n",
       "\n",
       "       ⎫\n",
       "\\theta)⎪\n",
       "───────⎬\n",
       "       ⎪\n",
       "       ⎭"
      ]
     },
     "execution_count": 18,
     "metadata": {},
     "output_type": "execute_result"
    }
   ],
   "source": [
    "Ga.components"
   ]
  },
  {
   "cell_type": "markdown",
   "metadata": {},
   "source": [
    "The _Matrix_ representation of the Christoffel symbols is the following"
   ]
  },
  {
   "cell_type": "code",
   "execution_count": 19,
   "metadata": {
    "jupyter": {
     "outputs_hidden": false
    }
   },
   "outputs": [
    {
     "data": {
      "image/png": "[encoded data removed]",
      "text/latex": [
       "$\\displaystyle \\left[\\begin{matrix}\\left[\\begin{matrix}0 & - \\frac{G M}{r^{2}} & 0 & 0\\\\- \\frac{G M}{r^{2}} & 0 & 0 & 0\\\\0 & 0 & 0 & 0\\\\0 & 0 & 0 & 0\\end{matrix}\\right] & \\left[\\begin{matrix}\\frac{G M}{r^{2}} & 0 & 0 & 0\\\\0 & - \\frac{G M c^{2}}{\\left(2 G M - c^{2} r\\right)^{2}} & 0 & 0\\\\0 & 0 & - r & 0\\\\0 & 0 & 0 & - r \\sin^{2}{\\left(\\theta \\right)}\\end{matrix}\\right] & \\left[\\begin{matrix}0 & 0 & 0 & 0\\\\0 & 0 & r & 0\\\\0 & r & 0 & 0\\\\0 & 0 & 0 & - \\frac{r^{2} \\sin{\\left(2 \\theta \\right)}}{2}\\end{matrix}\\right] & \\left[\\begin{matrix}0 & 0 & 0 & 0\\\\0 & 0 & 0 & r \\sin^{2}{\\left(\\theta \\right)}\\\\0 & 0 & 0 & \\frac{r^{2} \\sin{\\left(2 \\theta \\right)}}{2}\\\\0 & r \\sin^{2}{\\left(\\theta \\right)} & \\frac{r^{2} \\sin{\\left(2 \\theta \\right)}}{2} & 0\\end{matrix}\\right]\\end{matrix}\\right]$"
      ],
      "text/plain": [
       "⎡                      ⎡G⋅M                                      ⎤            \n",
       "⎢                      ⎢───         0         0          0       ⎥            \n",
       "⎢⎡       -G⋅M       ⎤  ⎢  2                                      ⎥            \n",
       "⎢⎢  0    ─────  0  0⎥  ⎢ r                                       ⎥  ⎡0  0  0  \n",
       "⎢⎢          2       ⎥  ⎢                                         ⎥  ⎢         \n",
       "⎢⎢         r        ⎥  ⎢               2                         ⎥  ⎢0  0  r  \n",
       "⎢⎢                  ⎥  ⎢         -G⋅M⋅c                          ⎥  ⎢         \n",
       "⎢⎢-G⋅M              ⎥  ⎢ 0   ───────────────  0          0       ⎥  ⎢0  r  0  \n",
       "⎢⎢─────    0    0  0⎥  ⎢                   2                     ⎥  ⎢         \n",
       "⎢⎢   2              ⎥  ⎢     ⎛         2  ⎞                      ⎥  ⎢         \n",
       "⎢⎢  r               ⎥  ⎢     ⎝2⋅G⋅M - c ⋅r⎠                      ⎥  ⎢         \n",
       "⎢⎢                  ⎥  ⎢                                         ⎥  ⎢0  0  0  \n",
       "⎢⎢  0      0    0  0⎥  ⎢ 0          0         -r         0       ⎥  ⎣         \n",
       "⎢⎢                  ⎥  ⎢                                         ⎥            \n",
       "⎢⎣  0      0    0  0⎦  ⎢                                2        ⎥            \n",
       "⎣                      ⎣ 0          0         0   -r⋅sin (\\theta)⎦            \n",
       "\n",
       "                                                                            ⎤\n",
       "                     ⎡0        0                0                 0        ⎤⎥\n",
       "                     ⎢                                                     ⎥⎥\n",
       "        0         ⎤  ⎢                                           2         ⎥⎥\n",
       "                  ⎥  ⎢0        0                0           r⋅sin (\\theta) ⎥⎥\n",
       "        0         ⎥  ⎢                                                     ⎥⎥\n",
       "                  ⎥  ⎢                                      2              ⎥⎥\n",
       "        0         ⎥  ⎢                                     r ⋅sin(2⋅\\theta)⎥⎥\n",
       "                  ⎥  ⎢0        0                0          ────────────────⎥⎥\n",
       "  2               ⎥  ⎢                                            2        ⎥⎥\n",
       "-r ⋅sin(2⋅\\theta) ⎥  ⎢                                                     ⎥⎥\n",
       "──────────────────⎥  ⎢                    2                                ⎥⎥\n",
       "        2         ⎦  ⎢        2          r ⋅sin(2⋅\\theta)                  ⎥⎥\n",
       "                     ⎢0  r⋅sin (\\theta)  ────────────────         0        ⎥⎥\n",
       "                     ⎣                          2                          ⎦⎥\n",
       "                                                                            ⎦"
      ]
     },
     "execution_count": 19,
     "metadata": {},
     "output_type": "execute_result"
    }
   ],
   "source": [
    "Ga(All, All, All)"
   ]
  },
  {
   "cell_type": "code",
   "execution_count": 20,
   "metadata": {},
   "outputs": [
    {
     "data": {
      "image/png": "[encoded data removed]",
      "text/latex": [
       "$\\displaystyle \\left\\{ \\left( 1, \\  1, \\  1\\right) : 0, \\  \\left( 1, \\  1, \\  2\\right) : - \\frac{G M}{r^{2}}, \\  \\left( 1, \\  1, \\  3\\right) : 0, \\  \\left( 1, \\  1, \\  4\\right) : 0, \\  \\left( 1, \\  2, \\  1\\right) : - \\frac{G M}{r^{2}}, \\  \\left( 1, \\  2, \\  2\\right) : 0, \\  \\left( 1, \\  2, \\  3\\right) : 0, \\  \\left( 1, \\  2, \\  4\\right) : 0, \\  \\left( 1, \\  3, \\  1\\right) : 0, \\  \\left( 1, \\  3, \\  2\\right) : 0, \\  \\left( 1, \\  3, \\  3\\right) : 0, \\  \\left( 1, \\  3, \\  4\\right) : 0, \\  \\left( 1, \\  4, \\  1\\right) : 0, \\  \\left( 1, \\  4, \\  2\\right) : 0, \\  \\left( 1, \\  4, \\  3\\right) : 0, \\  \\left( 1, \\  4, \\  4\\right) : 0, \\  \\left( 2, \\  1, \\  1\\right) : \\frac{G M}{r^{2}}, \\  \\left( 2, \\  1, \\  2\\right) : 0, \\  \\left( 2, \\  1, \\  3\\right) : 0, \\  \\left( 2, \\  1, \\  4\\right) : 0, \\  \\left( 2, \\  2, \\  1\\right) : 0, \\  \\left( 2, \\  2, \\  2\\right) : - \\frac{G M c^{2}}{\\left(2 G M - c^{2} r\\right)^{2}}, \\  \\left( 2, \\  2, \\  3\\right) : 0, \\  \\left( 2, \\  2, \\  4\\right) : 0, \\  \\left( 2, \\  3, \\  1\\right) : 0, \\  \\left( 2, \\  3, \\  2\\right) : 0, \\  \\left( 2, \\  3, \\  3\\right) : - r, \\  \\left( 2, \\  3, \\  4\\right) : 0, \\  \\left( 2, \\  4, \\  1\\right) : 0, \\  \\left( 2, \\  4, \\  2\\right) : 0, \\  \\left( 2, \\  4, \\  3\\right) : 0, \\  \\left( 2, \\  4, \\  4\\right) : - r \\sin^{2}{\\left(\\theta \\right)}, \\  \\left( 3, \\  1, \\  1\\right) : 0, \\  \\left( 3, \\  1, \\  2\\right) : 0, \\  \\left( 3, \\  1, \\  3\\right) : 0, \\  \\left( 3, \\  1, \\  4\\right) : 0, \\  \\left( 3, \\  2, \\  1\\right) : 0, \\  \\left( 3, \\  2, \\  2\\right) : 0, \\  \\left( 3, \\  2, \\  3\\right) : r, \\  \\left( 3, \\  2, \\  4\\right) : 0, \\  \\left( 3, \\  3, \\  1\\right) : 0, \\  \\left( 3, \\  3, \\  2\\right) : r, \\  \\left( 3, \\  3, \\  3\\right) : 0, \\  \\left( 3, \\  3, \\  4\\right) : 0, \\  \\left( 3, \\  4, \\  1\\right) : 0, \\  \\left( 3, \\  4, \\  2\\right) : 0, \\  \\left( 3, \\  4, \\  3\\right) : 0, \\  \\left( 3, \\  4, \\  4\\right) : - \\frac{r^{2} \\sin{\\left(2 \\theta \\right)}}{2}, \\  \\left( 4, \\  1, \\  1\\right) : 0, \\  \\left( 4, \\  1, \\  2\\right) : 0, \\  \\left( 4, \\  1, \\  3\\right) : 0, \\  \\left( 4, \\  1, \\  4\\right) : 0, \\  \\left( 4, \\  2, \\  1\\right) : 0, \\  \\left( 4, \\  2, \\  2\\right) : 0, \\  \\left( 4, \\  2, \\  3\\right) : 0, \\  \\left( 4, \\  2, \\  4\\right) : r \\sin^{2}{\\left(\\theta \\right)}, \\  \\left( 4, \\  3, \\  1\\right) : 0, \\  \\left( 4, \\  3, \\  2\\right) : 0, \\  \\left( 4, \\  3, \\  3\\right) : 0, \\  \\left( 4, \\  3, \\  4\\right) : \\frac{r^{2} \\sin{\\left(2 \\theta \\right)}}{2}, \\  \\left( 4, \\  4, \\  1\\right) : 0, \\  \\left( 4, \\  4, \\  2\\right) : r \\sin^{2}{\\left(\\theta \\right)}, \\  \\left( 4, \\  4, \\  3\\right) : \\frac{r^{2} \\sin{\\left(2 \\theta \\right)}}{2}, \\  \\left( 4, \\  4, \\  4\\right) : 0\\right\\}$"
      ],
      "text/plain": [
       "⎧                                                                             \n",
       "⎪                         -G⋅M                                          -G⋅M  \n",
       "⎪(1, 1, 1): 0, (1, 1, 2): ─────, (1, 1, 3): 0, (1, 1, 4): 0, (1, 2, 1): ─────,\n",
       "⎨                            2                                             2  \n",
       "⎪                           r                                             r   \n",
       "⎪                                                                             \n",
       "⎩                                                                             \n",
       "\n",
       "                                                                              \n",
       "                                                                              \n",
       " (1, 2, 2): 0, (1, 2, 3): 0, (1, 2, 4): 0, (1, 3, 1): 0, (1, 3, 2): 0, (1, 3, \n",
       "                                                                              \n",
       "                                                                              \n",
       "                                                                              \n",
       "                                                                              \n",
       "\n",
       "                                                                              \n",
       "                                                                              \n",
       "3): 0, (1, 3, 4): 0, (1, 4, 1): 0, (1, 4, 2): 0, (1, 4, 3): 0, (1, 4, 4): 0, (\n",
       "                                                                              \n",
       "                                                                              \n",
       "                                                                              \n",
       "                                                                              \n",
       "\n",
       "                                                                              \n",
       "          G⋅M                                                                 \n",
       "2, 1, 1): ───, (2, 1, 2): 0, (2, 1, 3): 0, (2, 1, 4): 0, (2, 2, 1): 0, (2, 2, \n",
       "            2                                                                 \n",
       "           r                                                                  \n",
       "                                                                              \n",
       "                                                                              \n",
       "\n",
       "              2                                                               \n",
       "        -G⋅M⋅c                                                                \n",
       "2): ───────────────, (2, 2, 3): 0, (2, 2, 4): 0, (2, 3, 1): 0, (2, 3, 2): 0, (\n",
       "                  2                                                           \n",
       "    ⎛         2  ⎞                                                            \n",
       "    ⎝2⋅G⋅M - c ⋅r⎠                                                            \n",
       "                                                                              \n",
       "\n",
       "                                                                              \n",
       "                                                                              \n",
       "2, 3, 3): -r, (2, 3, 4): 0, (2, 4, 1): 0, (2, 4, 2): 0, (2, 4, 3): 0, (2, 4, 4\n",
       "                                                                              \n",
       "                                                                              \n",
       "                                                                              \n",
       "                                                                              \n",
       "\n",
       "                                                                              \n",
       "         2                                                                    \n",
       "): -r⋅sin (\\theta), (3, 1, 1): 0, (3, 1, 2): 0, (3, 1, 3): 0, (3, 1, 4): 0, (3\n",
       "                                                                              \n",
       "                                                                              \n",
       "                                                                              \n",
       "                                                                              \n",
       "\n",
       "                                                                              \n",
       "                                                                              \n",
       ", 2, 1): 0, (3, 2, 2): 0, (3, 2, 3): r, (3, 2, 4): 0, (3, 3, 1): 0, (3, 3, 2):\n",
       "                                                                              \n",
       "                                                                              \n",
       "                                                                              \n",
       "                                                                              \n",
       "\n",
       "                                                                              \n",
       "                                                                              \n",
       " r, (3, 3, 3): 0, (3, 3, 4): 0, (3, 4, 1): 0, (3, 4, 2): 0, (3, 4, 3): 0, (3, \n",
       "                                                                              \n",
       "                                                                              \n",
       "                                                                              \n",
       "                                                                              \n",
       "\n",
       "         2                                                                    \n",
       "       -r ⋅sin(2⋅\\theta)                                                      \n",
       "4, 4): ──────────────────, (4, 1, 1): 0, (4, 1, 2): 0, (4, 1, 3): 0, (4, 1, 4)\n",
       "               2                                                              \n",
       "                                                                              \n",
       "                                                                              \n",
       "                                                                              \n",
       "\n",
       "                                                                              \n",
       "                                                               2              \n",
       ": 0, (4, 2, 1): 0, (4, 2, 2): 0, (4, 2, 3): 0, (4, 2, 4): r⋅sin (\\theta), (4, \n",
       "                                                                              \n",
       "                                                                              \n",
       "                                                                              \n",
       "                                                                              \n",
       "\n",
       "                                                  2                           \n",
       "                                                 r ⋅sin(2⋅\\theta)             \n",
       "3, 1): 0, (4, 3, 2): 0, (4, 3, 3): 0, (4, 3, 4): ────────────────, (4, 4, 1): \n",
       "                                                        2                     \n",
       "                                                                              \n",
       "                                                                              \n",
       "                                                                              \n",
       "\n",
       "                                          2                            ⎫\n",
       "                   2                     r ⋅sin(2⋅\\theta)              ⎪\n",
       "0, (4, 4, 2): r⋅sin (\\theta), (4, 4, 3): ────────────────, (4, 4, 4): 0⎪\n",
       "                                                2                      ⎬\n",
       "                                                                       ⎪\n",
       "                                                                       ⎪\n",
       "                                                                       ⎭"
      ]
     },
     "execution_count": 20,
     "metadata": {},
     "output_type": "execute_result"
    }
   ],
   "source": [
    "Ga.components"
   ]
  },
  {
   "cell_type": "markdown",
   "metadata": {},
   "source": [
    "You can get help on any of classes mentioned before by running the command"
   ]
  },
  {
   "cell_type": "code",
   "execution_count": 21,
   "metadata": {
    "jupyter": {
     "outputs_hidden": false
    }
   },
   "outputs": [
    {
     "name": "stdout",
     "output_type": "stream",
     "text": [
      "Help on class Christoffel in module gravipy.tensorial:\n",
      "\n",
      "class Christoffel(Tensor)\n",
      " |  Christoffel(symbol, metric, *args, **kwargs)\n",
      " |  \n",
      " |  Christoffel.\n",
      " |  \n",
      " |  Represents a class of Christoffel symbols of the first and second kind.\n",
      " |  \n",
      " |  Parameters\n",
      " |  ==========\n",
      " |  \n",
      " |  symbol : python string - name of the Christoffel symbol\n",
      " |  metric : GraviPy MtricTensor object\n",
      " |  \n",
      " |  Examples\n",
      " |  ========\n",
      " |  \n",
      " |  Define a Christoffel symbols for the Schwarzschild metric:\n",
      " |  \n",
      " |  >>> from gravipy.tensorial import *\n",
      " |  >>> t, r, theta, phi = symbols('t, r, \\\\theta, \\phi')\n",
      " |  >>> chi = Coordinates('\\chi', [t, r, theta, phi])\n",
      " |  >>> M = Symbol('M')\n",
      " |  >>> Metric = diag(-(1 - 2 * M / r), 1 / (1 - 2 * M / r), r ** 2,\n",
      " |  ...                  r ** 2 * sin(theta) ** 2)\n",
      " |  >>> g = MetricTensor('g', chi, Metric)\n",
      " |  >>> Ga = Christoffel('Ga', g)\n",
      " |  >>> Ga(-1, 2, 1)\n",
      " |  -M/(r*(2*M - r))\n",
      " |  >>> Ga(2, All, All)\n",
      " |  Matrix([\n",
      " |  [M/r**2,               0,  0,                 0],\n",
      " |  [     0, -M/(2*M - r)**2,  0,                 0],\n",
      " |  [     0,               0, -r,                 0],\n",
      " |  [     0,               0,  0, -r*sin(\\theta)**2]])\n",
      " |  >>> Ga(1, -1, 2) # doctest: +IGNORE_EXCEPTION_DETAIL\n",
      " |  Traceback (most recent call last):\n",
      " |  GraviPyError: \"Tensor component Ga(1, -1, 2) doesn't  exist\"\n",
      " |  \n",
      " |  Method resolution order:\n",
      " |      Christoffel\n",
      " |      Tensor\n",
      " |      GeneralTensor\n",
      " |      builtins.object\n",
      " |  \n",
      " |  Methods defined here:\n",
      " |  \n",
      " |  __init__(self, symbol, metric, *args, **kwargs)\n",
      " |      Initialize self.  See help(type(self)) for accurate signature.\n",
      " |  \n",
      " |  ----------------------------------------------------------------------\n",
      " |  Data and other attributes inherited from Tensor:\n",
      " |  \n",
      " |  TensorObjects = [<gravipy.tensorial.Christoffel object>]\n",
      " |  \n",
      " |  ----------------------------------------------------------------------\n",
      " |  Methods inherited from GeneralTensor:\n",
      " |  \n",
      " |  __call__(self, *idxs)\n",
      " |      Call self as a function.\n",
      " |  \n",
      " |  covariantD(self, *idxs)\n",
      " |  \n",
      " |  partialD(self, *idxs)\n",
      " |  \n",
      " |  ----------------------------------------------------------------------\n",
      " |  Static methods inherited from GeneralTensor:\n",
      " |  \n",
      " |  get_nmatrixel(M, idxs)\n",
      " |  \n",
      " |  ----------------------------------------------------------------------\n",
      " |  Data descriptors inherited from GeneralTensor:\n",
      " |  \n",
      " |  __dict__\n",
      " |      dictionary for instance variables (if defined)\n",
      " |  \n",
      " |  __weakref__\n",
      " |      list of weak references to the object (if defined)\n",
      " |  \n",
      " |  ----------------------------------------------------------------------\n",
      " |  Data and other attributes inherited from GeneralTensor:\n",
      " |  \n",
      " |  GeneralTensorObjects = [<gravipy.tensorial.Coordinates object>, <gravi...\n",
      "\n"
     ]
    }
   ],
   "source": [
    "help(Christoffel)"
   ]
  },
  {
   "cell_type": "markdown",
   "metadata": {},
   "source": [
    "Try also \"_Christoffel?_\" and  \"_Christoffel??_\""
   ]
  },
  {
   "cell_type": "markdown",
   "metadata": {},
   "source": [
    "### The _Ricci_ tensor"
   ]
  },
  {
   "cell_type": "markdown",
   "metadata": {},
   "source": [
    "$$ R_{\\mu \\nu} = \\frac{\\partial \\Gamma^{\\sigma}_{\\ \\mu \\nu}}{\\partial x^{\\sigma}} - \\frac{\\partial \\Gamma^{\\sigma}_{\\ \\mu \\sigma}}{\\partial x^{\\nu}} + \\Gamma^{\\sigma}_{\\ \\mu \\nu}\\Gamma^{\\rho}_{\\ \\sigma \\rho} - \\Gamma^{\\rho}_{\\ \\mu \\sigma}\\Gamma^{\\sigma}_{\\ \\nu \\rho} $$"
   ]
  },
  {
   "cell_type": "code",
   "execution_count": 22,
   "metadata": {
    "jupyter": {
     "outputs_hidden": false
    }
   },
   "outputs": [
    {
     "data": {
      "image/png": "[encoded data removed]",
      "text/latex": [
       "$\\displaystyle \\left[\\begin{matrix}0 & 0 & 0 & 0\\\\0 & 0 & 0 & 0\\\\0 & 0 & 0 & 0\\\\0 & 0 & 0 & 0\\end{matrix}\\right]$"
      ],
      "text/plain": [
       "⎡0  0  0  0⎤\n",
       "⎢          ⎥\n",
       "⎢0  0  0  0⎥\n",
       "⎢          ⎥\n",
       "⎢0  0  0  0⎥\n",
       "⎢          ⎥\n",
       "⎣0  0  0  0⎦"
      ]
     },
     "execution_count": 22,
     "metadata": {},
     "output_type": "execute_result"
    }
   ],
   "source": [
    "Ri = Ricci('Ri', g)\n",
    "Ri(All, All)"
   ]
  },
  {
   "cell_type": "markdown",
   "metadata": {},
   "source": [
    "Contraction of the _Ricci_ tensor $R = R_{\\mu}^{\\ \\mu} = g^{\\mu \\nu}R_{\\mu \\nu}$"
   ]
  },
  {
   "cell_type": "code",
   "execution_count": 23,
   "metadata": {
    "jupyter": {
     "outputs_hidden": false
    }
   },
   "outputs": [
    {
     "data": {
      "image/png": "[encoded data removed]",
      "text/latex": [
       "$\\displaystyle 0$"
      ],
      "text/plain": [
       "0"
      ]
     },
     "execution_count": 23,
     "metadata": {},
     "output_type": "execute_result"
    }
   ],
   "source": [
    "Ri.scalar()"
   ]
  },
  {
   "cell_type": "code",
   "execution_count": 24,
   "metadata": {},
   "outputs": [
    {
     "data": {
      "image/png": "[encoded data removed]",
      "text/latex": [
       "$\\displaystyle \\left\\{ \\left( 1, \\  1\\right) : 0, \\  \\left( 1, \\  2\\right) : 0, \\  \\left( 1, \\  3\\right) : 0, \\  \\left( 1, \\  4\\right) : 0, \\  \\left( 2, \\  1\\right) : 0, \\  \\left( 2, \\  2\\right) : 0, \\  \\left( 2, \\  3\\right) : 0, \\  \\left( 2, \\  4\\right) : 0, \\  \\left( 3, \\  1\\right) : 0, \\  \\left( 3, \\  2\\right) : 0, \\  \\left( 3, \\  3\\right) : 0, \\  \\left( 3, \\  4\\right) : 0, \\  \\left( 4, \\  1\\right) : 0, \\  \\left( 4, \\  2\\right) : 0, \\  \\left( 4, \\  3\\right) : 0, \\  \\left( 4, \\  4\\right) : 0\\right\\}$"
      ],
      "text/plain": [
       "{(1, 1): 0, (1, 2): 0, (1, 3): 0, (1, 4): 0, (2, 1): 0, (2, 2): 0, (2, 3): 0, \n",
       "(2, 4): 0, (3, 1): 0, (3, 2): 0, (3, 3): 0, (3, 4): 0, (4, 1): 0, (4, 2): 0, (\n",
       "4, 3): 0, (4, 4): 0}"
      ]
     },
     "execution_count": 24,
     "metadata": {},
     "output_type": "execute_result"
    }
   ],
   "source": [
    "Ri.components"
   ]
  },
  {
   "cell_type": "markdown",
   "metadata": {},
   "source": [
    "### The _Riemann_ tensor"
   ]
  },
  {
   "cell_type": "markdown",
   "metadata": {},
   "source": [
    "$$ R_{\\mu \\nu \\rho \\sigma} = \\frac{\\partial \\Gamma_{\\mu \\nu \\sigma}}{\\partial x^{\\rho}} - \\frac{\\partial \\Gamma_{\\mu \\nu \\rho}}{\\partial x^{\\sigma}} + \\Gamma^{\\alpha}_{\\ \\nu \\sigma}\\Gamma_{\\mu \\rho \\alpha} - \\Gamma^{\\alpha}_{\\ \\nu \\rho}\\Gamma_{\\mu \\sigma \\alpha} - \\frac{\\partial g_{\\mu \\alpha}}{\\partial x^{\\rho}}\\Gamma^{\\alpha}_{\\ \\nu \\sigma} + \\frac{\\partial g_{\\mu \\alpha}}{\\partial x^{\\sigma}}\\Gamma^{\\alpha}_{\\ \\nu \\rho} $$"
   ]
  },
  {
   "cell_type": "code",
   "execution_count": 25,
   "metadata": {
    "jupyter": {
     "outputs_hidden": false
    }
   },
   "outputs": [],
   "source": [
    "Rm = Riemann('Rm', g)"
   ]
  },
  {
   "cell_type": "markdown",
   "metadata": {},
   "source": [
    "Some nonzero components of the _Riemann_ tensor are"
   ]
  },
  {
   "cell_type": "code",
   "execution_count": 26,
   "metadata": {
    "jupyter": {
     "outputs_hidden": false
    }
   },
   "outputs": [
    {
     "data": {
      "text/latex": [
       "$\\displaystyle R_{1212} = - \\frac{2 G M}{r^{3}}$"
      ],
      "text/plain": [
       "<IPython.core.display.Math object>"
      ]
     },
     "metadata": {},
     "output_type": "display_data"
    },
    {
     "data": {
      "text/latex": [
       "$\\displaystyle R_{1313} = \\frac{G M \\left(- 2 G M + c^{2} r\\right)}{c^{2} r^{2}}$"
      ],
      "text/plain": [
       "<IPython.core.display.Math object>"
      ]
     },
     "metadata": {},
     "output_type": "display_data"
    },
    {
     "data": {
      "text/latex": [
       "$\\displaystyle R_{1414} = \\frac{G M \\left(- 2 G M + c^{2} r\\right) \\sin^{2}{\\left(\\theta \\right)}}{c^{2} r^{2}}$"
      ],
      "text/plain": [
       "<IPython.core.display.Math object>"
      ]
     },
     "metadata": {},
     "output_type": "display_data"
    },
    {
     "data": {
      "text/latex": [
       "$\\displaystyle R_{2323} = \\frac{G M}{2 G M - c^{2} r}$"
      ],
      "text/plain": [
       "<IPython.core.display.Math object>"
      ]
     },
     "metadata": {},
     "output_type": "display_data"
    },
    {
     "data": {
      "text/latex": [
       "$\\displaystyle R_{2424} = \\frac{G M \\sin^{2}{\\left(\\theta \\right)}}{2 G M - c^{2} r}$"
      ],
      "text/plain": [
       "<IPython.core.display.Math object>"
      ]
     },
     "metadata": {},
     "output_type": "display_data"
    },
    {
     "data": {
      "text/latex": [
       "$\\displaystyle R_{3434} = \\frac{2 G M r \\sin^{2}{\\left(\\theta \\right)}}{c^{2}}$"
      ],
      "text/plain": [
       "<IPython.core.display.Math object>"
      ]
     },
     "metadata": {},
     "output_type": "display_data"
    }
   ],
   "source": [
    "from IPython.display import display, Math\n",
    "from sympy import latex\n",
    "for i, j, k, l in list(variations(range(1, 5), 4, True)):\n",
    "    if Rm(i, j, k, l) != 0 and k<l and i<j:\n",
    "        display(Math('R_{'+str(i)+str(j)+str(k)+str(l)+'} = '+ latex(Rm(i, j, k, l))))"
   ]
  },
  {
   "cell_type": "markdown",
   "metadata": {},
   "source": [
    "You can also display the matrix representation of the tensor"
   ]
  },
  {
   "cell_type": "code",
   "execution_count": 27,
   "metadata": {},
   "outputs": [
    {
     "data": {
      "image/png": "[encoded data removed]",
      "text/latex": [
       "$\\displaystyle 0$"
      ],
      "text/plain": [
       "0"
      ]
     },
     "execution_count": 27,
     "metadata": {},
     "output_type": "execute_result"
    }
   ],
   "source": [
    " Rm(-1, 1,-1,1)"
   ]
  },
  {
   "cell_type": "code",
   "execution_count": 28,
   "metadata": {
    "jupyter": {
     "outputs_hidden": false
    }
   },
   "outputs": [],
   "source": [
    " #Rm(All, All, All, All)"
   ]
  },
  {
   "cell_type": "markdown",
   "metadata": {},
   "source": [
    "Contraction of the _Riemann_ tensor $R_{\\mu \\nu} = R^{\\rho}_{\\ \\mu \\rho \\nu} $"
   ]
  },
  {
   "cell_type": "code",
   "execution_count": 29,
   "metadata": {
    "jupyter": {
     "outputs_hidden": false
    }
   },
   "outputs": [
    {
     "data": {
      "image/png": "[encoded data removed]",
      "text/latex": [
       "$\\displaystyle \\left[\\begin{matrix}0 & 0 & 0 & 0\\\\0 & 0 & 0 & 0\\\\0 & 0 & 0 & 0\\\\0 & 0 & 0 & 0\\end{matrix}\\right]$"
      ],
      "text/plain": [
       "⎡0  0  0  0⎤\n",
       "⎢          ⎥\n",
       "⎢0  0  0  0⎥\n",
       "⎢          ⎥\n",
       "⎢0  0  0  0⎥\n",
       "⎢          ⎥\n",
       "⎣0  0  0  0⎦"
      ]
     },
     "execution_count": 29,
     "metadata": {},
     "output_type": "execute_result"
    }
   ],
   "source": [
    "ricci = sum([Rm(i, All, k, All)*g(-i, -k)\n",
    "             for i, k in list(variations(range(1, 5), 2, True))],\n",
    "            zeros(4))\n",
    "ricci.simplify()\n",
    "ricci"
   ]
  },
  {
   "cell_type": "markdown",
   "metadata": {},
   "source": [
    "### The _Einstein_ tensor"
   ]
  },
  {
   "cell_type": "markdown",
   "metadata": {},
   "source": [
    "$$ G_{\\mu \\nu} = R_{\\mu \\nu} - \\frac{1}{2}g_{\\mu \\nu}R $$"
   ]
  },
  {
   "cell_type": "code",
   "execution_count": 30,
   "metadata": {
    "jupyter": {
     "outputs_hidden": false
    }
   },
   "outputs": [
    {
     "data": {
      "image/png": "[encoded data removed]",
      "text/latex": [
       "$\\displaystyle \\left[\\begin{matrix}0 & 0 & 0 & 0\\\\0 & 0 & 0 & 0\\\\0 & 0 & 0 & 0\\\\0 & 0 & 0 & 0\\end{matrix}\\right]$"
      ],
      "text/plain": [
       "⎡0  0  0  0⎤\n",
       "⎢          ⎥\n",
       "⎢0  0  0  0⎥\n",
       "⎢          ⎥\n",
       "⎢0  0  0  0⎥\n",
       "⎢          ⎥\n",
       "⎣0  0  0  0⎦"
      ]
     },
     "execution_count": 30,
     "metadata": {},
     "output_type": "execute_result"
    }
   ],
   "source": [
    "G = Einstein('G', Ri)\n",
    "G(All, All)"
   ]
  },
  {
   "cell_type": "markdown",
   "metadata": {},
   "source": [
    "### _Geodesics_"
   ]
  },
  {
   "cell_type": "markdown",
   "metadata": {},
   "source": [
    "$$ w_{\\mu} = \\frac{Du_{\\mu}}{d\\tau} = \\frac{d^2x_{\\mu}}{d\\tau^2} - \\frac{1}{2}g_{\\rho \\sigma, \\mu} \\frac{dx^{\\rho}}{d\\tau}\\frac{dx^{\\sigma}}{d\\tau} $$"
   ]
  },
  {
   "cell_type": "code",
   "execution_count": 31,
   "metadata": {
    "jupyter": {
     "outputs_hidden": false
    }
   },
   "outputs": [
    {
     "data": {
      "image/png": "[encoded data removed]",
      "text/latex": [
       "$\\displaystyle \\left[\\begin{matrix}- \\frac{2 G M \\frac{d}{d \\tau} r{\\left(\\tau \\right)} \\frac{d}{d \\tau} t{\\left(\\tau \\right)}}{r^{2}{\\left(\\tau \\right)}} + c^{2} \\left(\\frac{2 G M}{c^{2} r{\\left(\\tau \\right)}} - 1\\right) \\frac{d^{2}}{d \\tau^{2}} t{\\left(\\tau \\right)}\\\\\\frac{G M \\left(\\frac{d}{d \\tau} t{\\left(\\tau \\right)}\\right)^{2}}{r^{2}{\\left(\\tau \\right)}} - \\frac{G M \\left(\\frac{d}{d \\tau} r{\\left(\\tau \\right)}\\right)^{2}}{c^{2} \\left(- \\frac{2 G M}{c^{2} r{\\left(\\tau \\right)}} + 1\\right)^{2} r^{2}{\\left(\\tau \\right)}} - r{\\left(\\tau \\right)} \\sin^{2}{\\left(\\theta{\\left(\\tau \\right)} \\right)} \\left(\\frac{d}{d \\tau} \\phi{\\left(\\tau \\right)}\\right)^{2} - r{\\left(\\tau \\right)} \\left(\\frac{d}{d \\tau} \\theta{\\left(\\tau \\right)}\\right)^{2} + \\frac{\\frac{d^{2}}{d \\tau^{2}} r{\\left(\\tau \\right)}}{- \\frac{2 G M}{c^{2} r{\\left(\\tau \\right)}} + 1}\\\\- r^{2}{\\left(\\tau \\right)} \\sin{\\left(\\theta{\\left(\\tau \\right)} \\right)} \\cos{\\left(\\theta{\\left(\\tau \\right)} \\right)} \\left(\\frac{d}{d \\tau} \\phi{\\left(\\tau \\right)}\\right)^{2} + r^{2}{\\left(\\tau \\right)} \\frac{d^{2}}{d \\tau^{2}} \\theta{\\left(\\tau \\right)} + 2 r{\\left(\\tau \\right)} \\frac{d}{d \\tau} \\theta{\\left(\\tau \\right)} \\frac{d}{d \\tau} r{\\left(\\tau \\right)}\\\\r^{2}{\\left(\\tau \\right)} \\sin^{2}{\\left(\\theta{\\left(\\tau \\right)} \\right)} \\frac{d^{2}}{d \\tau^{2}} \\phi{\\left(\\tau \\right)} + 2 r^{2}{\\left(\\tau \\right)} \\sin{\\left(\\theta{\\left(\\tau \\right)} \\right)} \\cos{\\left(\\theta{\\left(\\tau \\right)} \\right)} \\frac{d}{d \\tau} \\phi{\\left(\\tau \\right)} \\frac{d}{d \\tau} \\theta{\\left(\\tau \\right)} + 2 r{\\left(\\tau \\right)} \\sin^{2}{\\left(\\theta{\\left(\\tau \\right)} \\right)} \\frac{d}{d \\tau} \\phi{\\left(\\tau \\right)} \\frac{d}{d \\tau} r{\\left(\\tau \\right)}\\end{matrix}\\right]$"
      ],
      "text/plain": [
       "⎡                                                                       d     \n",
       "⎢                                                               2⋅G⋅M⋅─────(r(\n",
       "⎢                                                                     d\\tau   \n",
       "⎢                                                             - ──────────────\n",
       "⎢                                                                             \n",
       "⎢                                                                             \n",
       "⎢                                                                             \n",
       "⎢                                                                             \n",
       "⎢                                        2                            2       \n",
       "⎢                        ⎛  d           ⎞             ⎛  d           ⎞        \n",
       "⎢                    G⋅M⋅⎜─────(t(\\tau))⎟         G⋅M⋅⎜─────(r(\\tau))⎟        \n",
       "⎢                        ⎝d\\tau         ⎠             ⎝d\\tau         ⎠        \n",
       "⎢                    ───────────────────── - ─────────────────────────────── -\n",
       "⎢                            2                                    2           \n",
       "⎢                           r (\\tau)          2 ⎛    2⋅G⋅M       ⎞   2        \n",
       "⎢                                            c ⋅⎜- ────────── + 1⎟ ⋅r (\\tau)  \n",
       "⎢                                               ⎜   2            ⎟            \n",
       "⎢                                               ⎝  c ⋅r(\\tau)    ⎠            \n",
       "⎢                                                                             \n",
       "⎢                                                                             \n",
       "⎢                            2                                           ⎛  d \n",
       "⎢                         - r (\\tau)⋅sin(\\theta(\\tau))⋅cos(\\theta(\\tau))⋅⎜────\n",
       "⎢                                                                        ⎝d\\ta\n",
       "⎢                                                                             \n",
       "⎢                                                                             \n",
       "⎢                               2                                             \n",
       "⎢ 2          2                 d                     2                        \n",
       "⎢r (\\tau)⋅sin (\\theta(\\tau))⋅──────(\\phi(\\tau)) + 2⋅r (\\tau)⋅sin(\\theta(\\tau))\n",
       "⎢                                 2                                           \n",
       "⎣                            d\\tau                                            \n",
       "\n",
       "         d                                                                    \n",
       "\\tau))⋅─────(t(\\tau))                          2                              \n",
       "       d\\tau             2 ⎛  2⋅G⋅M       ⎞   d                               \n",
       "───────────────────── + c ⋅⎜────────── - 1⎟⋅──────(t(\\tau))                   \n",
       " 2                         ⎜ 2            ⎟      2                            \n",
       "r (\\tau)                   ⎝c ⋅r(\\tau)    ⎠ d\\tau                             \n",
       "                                                                              \n",
       "                                                                              \n",
       "                                                                              \n",
       "                                                                              \n",
       "                                               2                              \n",
       "            2               ⎛  d              ⎞            ⎛  d               \n",
       " r(\\tau)⋅sin (\\theta(\\tau))⋅⎜─────(\\phi(\\tau))⎟  - r(\\tau)⋅⎜─────(\\theta(\\tau)\n",
       "                            ⎝d\\tau            ⎠            ⎝d\\tau             \n",
       "                                                                              \n",
       "                                                                              \n",
       "                                                                              \n",
       "                                                                              \n",
       "                                                                              \n",
       "              2               2                                               \n",
       "             ⎞     2         d                                d               \n",
       "─(\\phi(\\tau))⎟  + r (\\tau)⋅──────(\\theta(\\tau)) + 2⋅r(\\tau)⋅─────(\\theta(\\tau)\n",
       "u            ⎠                  2                           d\\tau             \n",
       "                           d\\tau                                              \n",
       "                                                                              \n",
       "                                                                              \n",
       "                     d                 d                                2     \n",
       "⋅cos(\\theta(\\tau))⋅─────(\\phi(\\tau))⋅─────(\\theta(\\tau)) + 2⋅r(\\tau)⋅sin (\\the\n",
       "                   d\\tau             d\\tau                                    \n",
       "                                                                              \n",
       "\n",
       "                                          ⎤\n",
       "                                          ⎥\n",
       "                                          ⎥\n",
       "                                          ⎥\n",
       "                                          ⎥\n",
       "                                          ⎥\n",
       "                                          ⎥\n",
       "         2                                ⎥\n",
       "        d                                 ⎥\n",
       "      ──────(r(\\tau))                     ⎥\n",
       "  2        2                              ⎥\n",
       " ⎞    d\\tau                               ⎥\n",
       ")⎟  + ────────────────                    ⎥\n",
       " ⎠        2⋅G⋅M                           ⎥\n",
       "      - ────────── + 1                    ⎥\n",
       "         2                                ⎥\n",
       "        c ⋅r(\\tau)                        ⎥\n",
       "                                          ⎥\n",
       "                                          ⎥\n",
       "                                          ⎥\n",
       "    d                                     ⎥\n",
       ")⋅─────(r(\\tau))                          ⎥\n",
       "  d\\tau                                   ⎥\n",
       "                                          ⎥\n",
       "                                          ⎥\n",
       "                                          ⎥\n",
       "            d                 d           ⎥\n",
       "ta(\\tau))⋅─────(\\phi(\\tau))⋅─────(r(\\tau))⎥\n",
       "          d\\tau             d\\tau         ⎥\n",
       "                                          ⎦"
      ]
     },
     "execution_count": 31,
     "metadata": {},
     "output_type": "execute_result"
    }
   ],
   "source": [
    "tau = Symbol('\\\\tau')\n",
    "w = Geodesic('w', g, tau)\n",
    "w(All).transpose()"
   ]
  },
  {
   "cell_type": "markdown",
   "metadata": {},
   "source": [
    "Please note that instantiation of a _Geodesic_ class for the metric $g$ automatically turns on a _Parametrization_ mode for the metric $g$. Then all coordinates are functions of a world line parameter $\\tau$"
   ]
  },
  {
   "cell_type": "code",
   "execution_count": 32,
   "metadata": {
    "jupyter": {
     "outputs_hidden": false
    }
   },
   "outputs": [
    {
     "data": {
      "image/png": "[encoded data removed]",
      "text/latex": [
       "$\\displaystyle \\left[ \\left[ \\chi, \\  \\tau\\right]\\right]$"
      ],
      "text/plain": [
       "[[\\chi, \\tau]]"
      ]
     },
     "execution_count": 32,
     "metadata": {},
     "output_type": "execute_result"
    }
   ],
   "source": [
    "Parametrization.info()"
   ]
  },
  {
   "cell_type": "code",
   "execution_count": 33,
   "metadata": {
    "jupyter": {
     "outputs_hidden": false
    }
   },
   "outputs": [
    {
     "data": {
      "image/png": "[encoded data removed]",
      "text/latex": [
       "$\\displaystyle \\left[\\begin{matrix}t{\\left(\\tau \\right)} & r{\\left(\\tau \\right)} & \\theta{\\left(\\tau \\right)} & \\phi{\\left(\\tau \\right)}\\end{matrix}\\right]$"
      ],
      "text/plain": [
       "[t(\\tau)  r(\\tau)  \\theta(\\tau)  \\phi(\\tau)]"
      ]
     },
     "execution_count": 33,
     "metadata": {},
     "output_type": "execute_result"
    }
   ],
   "source": [
    "x(-All)"
   ]
  },
  {
   "cell_type": "code",
   "execution_count": 34,
   "metadata": {
    "jupyter": {
     "outputs_hidden": false
    }
   },
   "outputs": [
    {
     "data": {
      "image/png": "[encoded data removed]",
      "text/latex": [
       "$\\displaystyle \\left[\\begin{matrix}c^{2} \\left(\\frac{2 G M}{c^{2} r{\\left(\\tau \\right)}} - 1\\right) & 0 & 0 & 0\\\\0 & \\frac{1}{- \\frac{2 G M}{c^{2} r{\\left(\\tau \\right)}} + 1} & 0 & 0\\\\0 & 0 & r^{2}{\\left(\\tau \\right)} & 0\\\\0 & 0 & 0 & r^{2}{\\left(\\tau \\right)} \\sin^{2}{\\left(\\theta{\\left(\\tau \\right)} \\right)}\\end{matrix}\\right]$"
      ],
      "text/plain": [
       "⎡ 2 ⎛  2⋅G⋅M       ⎞                                                         ⎤\n",
       "⎢c ⋅⎜────────── - 1⎟         0             0                   0             ⎥\n",
       "⎢   ⎜ 2            ⎟                                                         ⎥\n",
       "⎢   ⎝c ⋅r(\\tau)    ⎠                                                         ⎥\n",
       "⎢                                                                            ⎥\n",
       "⎢                            1                                               ⎥\n",
       "⎢         0           ────────────────     0                   0             ⎥\n",
       "⎢                         2⋅G⋅M                                              ⎥\n",
       "⎢                     - ────────── + 1                                       ⎥\n",
       "⎢                        2                                                   ⎥\n",
       "⎢                       c ⋅r(\\tau)                                           ⎥\n",
       "⎢                                                                            ⎥\n",
       "⎢                                        2                                   ⎥\n",
       "⎢         0                  0          r (\\tau)               0             ⎥\n",
       "⎢                                                                            ⎥\n",
       "⎢                                                  2          2              ⎥\n",
       "⎣         0                  0             0      r (\\tau)⋅sin (\\theta(\\tau))⎦"
      ]
     },
     "execution_count": 34,
     "metadata": {},
     "output_type": "execute_result"
    }
   ],
   "source": [
    "g(All, All)"
   ]
  },
  {
   "cell_type": "markdown",
   "metadata": {},
   "source": [
    "_Parametrization_ mode can be deactivated by typing"
   ]
  },
  {
   "cell_type": "code",
   "execution_count": 35,
   "metadata": {
    "jupyter": {
     "outputs_hidden": false
    }
   },
   "outputs": [
    {
     "name": "stdout",
     "output_type": "stream",
     "text": [
      "No parametrization activated\n"
     ]
    }
   ],
   "source": [
    "Parametrization.deactivate(x)\n",
    "Parametrization.info()"
   ]
  },
  {
   "cell_type": "code",
   "execution_count": 36,
   "metadata": {
    "jupyter": {
     "outputs_hidden": false
    }
   },
   "outputs": [
    {
     "data": {
      "image/png": "[encoded data removed]",
      "text/latex": [
       "$\\displaystyle \\left[\\begin{matrix}t & r & \\theta & \\phi\\end{matrix}\\right]$"
      ],
      "text/plain": [
       "[t  r  \\theta  \\phi]"
      ]
     },
     "execution_count": 36,
     "metadata": {},
     "output_type": "execute_result"
    }
   ],
   "source": [
    "x(-All)"
   ]
  },
  {
   "cell_type": "code",
   "execution_count": 37,
   "metadata": {
    "jupyter": {
     "outputs_hidden": false
    }
   },
   "outputs": [
    {
     "data": {
      "image/png": "[encoded data removed]",
      "text/latex": [
       "$\\displaystyle \\left[\\begin{matrix}c^{2} \\left(\\frac{2 G M}{c^{2} r} - 1\\right) & 0 & 0 & 0\\\\0 & \\frac{1}{- \\frac{2 G M}{c^{2} r} + 1} & 0 & 0\\\\0 & 0 & r^{2} & 0\\\\0 & 0 & 0 & r^{2} \\sin^{2}{\\left(\\theta \\right)}\\end{matrix}\\right]$"
      ],
      "text/plain": [
       "⎡ 2 ⎛2⋅G⋅M    ⎞                                  ⎤\n",
       "⎢c ⋅⎜───── - 1⎟       0       0          0       ⎥\n",
       "⎢   ⎜  2      ⎟                                  ⎥\n",
       "⎢   ⎝ c ⋅r    ⎠                                  ⎥\n",
       "⎢                                                ⎥\n",
       "⎢                     1                          ⎥\n",
       "⎢      0         ───────────  0          0       ⎥\n",
       "⎢                  2⋅G⋅M                         ⎥\n",
       "⎢                - ───── + 1                     ⎥\n",
       "⎢                    2                           ⎥\n",
       "⎢                   c ⋅r                         ⎥\n",
       "⎢                                                ⎥\n",
       "⎢                              2                 ⎥\n",
       "⎢      0              0       r          0       ⎥\n",
       "⎢                                                ⎥\n",
       "⎢                                  2    2        ⎥\n",
       "⎣      0              0       0   r ⋅sin (\\theta)⎦"
      ]
     },
     "execution_count": 37,
     "metadata": {},
     "output_type": "execute_result"
    }
   ],
   "source": [
    "g(All, All)"
   ]
  },
  {
   "cell_type": "markdown",
   "metadata": {},
   "source": [
    "## Derivatives"
   ]
  },
  {
   "cell_type": "markdown",
   "metadata": {},
   "source": [
    "### Partial derivative"
   ]
  },
  {
   "cell_type": "markdown",
   "metadata": {},
   "source": [
    "All instances of a _GeneralTensor_ subclasses inherits _partialD_ method which works exactly the same way as SymPy _diff_ method."
   ]
  },
  {
   "cell_type": "code",
   "execution_count": 38,
   "metadata": {
    "jupyter": {
     "outputs_hidden": false
    }
   },
   "outputs": [
    {
     "data": {
      "image/png": "[encoded data removed]",
      "text/latex": [
       "$\\displaystyle \\operatorname{T(1, 2)}{\\left(t,r,\\theta,\\phi \\right)}$"
      ],
      "text/plain": [
       "T(1, 2)(t, r, \\theta, \\phi)"
      ]
     },
     "execution_count": 38,
     "metadata": {},
     "output_type": "execute_result"
    }
   ],
   "source": [
    "T = Tensor('T', 2, g)\n",
    "T(1, 2)"
   ]
  },
  {
   "cell_type": "code",
   "execution_count": 39,
   "metadata": {
    "jupyter": {
     "outputs_hidden": false
    }
   },
   "outputs": [
    {
     "data": {
      "image/png": "[encoded data removed]",
      "text/latex": [
       "$\\displaystyle \\frac{\\partial^{2}}{\\partial t\\partial \\theta} \\operatorname{T(1, 2)}{\\left(t,r,\\theta,\\phi \\right)}$"
      ],
      "text/plain": [
       "     2                                 \n",
       "    ∂                                  \n",
       "──────────(T(1, 2)(t, r, \\theta, \\phi))\n",
       "∂t ∂\\theta                             "
      ]
     },
     "execution_count": 39,
     "metadata": {},
     "output_type": "execute_result"
    }
   ],
   "source": [
    "T.partialD(1, 2, 1, 3) # The first two indices belongs to second rank tensor T"
   ]
  },
  {
   "cell_type": "code",
   "execution_count": 40,
   "metadata": {
    "jupyter": {
     "outputs_hidden": false
    }
   },
   "outputs": [
    {
     "data": {
      "image/png": "[encoded data removed]",
      "text/latex": [
       "$\\displaystyle \\frac{\\partial^{2}}{\\partial t\\partial \\theta} \\operatorname{T(1, 2)}{\\left(t,r,\\theta,\\phi \\right)}$"
      ],
      "text/plain": [
       "     2                                 \n",
       "    ∂                                  \n",
       "──────────(T(1, 2)(t, r, \\theta, \\phi))\n",
       "∂t ∂\\theta                             "
      ]
     },
     "execution_count": 40,
     "metadata": {},
     "output_type": "execute_result"
    }
   ],
   "source": [
    "T(1, 2).diff(x(-1), x(-3))"
   ]
  },
  {
   "cell_type": "markdown",
   "metadata": {},
   "source": [
    "The only difference is that computed value of _partialD_ is saved in  \"_partial_derivative_components_\" dictionary an then returned by the next call to the _partialD_ method."
   ]
  },
  {
   "cell_type": "code",
   "execution_count": 41,
   "metadata": {
    "jupyter": {
     "outputs_hidden": false
    }
   },
   "outputs": [
    {
     "data": {
      "image/png": "[encoded data removed]",
      "text/latex": [
       "$\\displaystyle \\left\\{ \\left( 1, \\  2, \\  1, \\  3\\right) : \\frac{\\partial^{2}}{\\partial t\\partial \\theta} \\operatorname{T(1, 2)}{\\left(t,r,\\theta,\\phi \\right)}\\right\\}$"
      ],
      "text/plain": [
       "⎧                   2                                 ⎫\n",
       "⎪                  ∂                                  ⎪\n",
       "⎨(1, 2, 1, 3): ──────────(T(1, 2)(t, r, \\theta, \\phi))⎬\n",
       "⎪              ∂t ∂\\theta                             ⎪\n",
       "⎩                                                     ⎭"
      ]
     },
     "execution_count": 41,
     "metadata": {},
     "output_type": "execute_result"
    }
   ],
   "source": [
    "T.partial_derivative_components"
   ]
  },
  {
   "cell_type": "markdown",
   "metadata": {},
   "source": [
    "### Covariant derivative"
   ]
  },
  {
   "cell_type": "markdown",
   "metadata": {},
   "source": [
    "Covariant derivative components of the tensor ___T___  can be computed by the covariantD method from the formula"
   ]
  },
  {
   "cell_type": "markdown",
   "metadata": {},
   "source": [
    "$$ \\nabla_{\\sigma} T_{\\mu}^{\\ \\nu} = T_{\\mu \\ ;\\sigma}^{\\ \\nu} = \\frac{\\partial T_{\\mu}^{\\ \\nu}}{\\partial x^{\\sigma}} - \\Gamma^{\\rho}_{\\ \\mu \\sigma}T_{\\rho}^{\\ \\nu} + \\Gamma^{\\nu}_{\\ \\rho \\sigma}T_{\\mu}^{\\ \\rho}$$"
   ]
  },
  {
   "cell_type": "markdown",
   "metadata": {},
   "source": [
    "Let's compute some covariant derivatives of a scalar field C"
   ]
  },
  {
   "cell_type": "code",
   "execution_count": 42,
   "metadata": {
    "jupyter": {
     "outputs_hidden": false
    }
   },
   "outputs": [
    {
     "data": {
      "image/png": "[encoded data removed]",
      "text/latex": [
       "$\\displaystyle C{\\left(t,r,\\theta,\\phi \\right)}$"
      ],
      "text/plain": [
       "C(t, r, \\theta, \\phi)"
      ]
     },
     "execution_count": 42,
     "metadata": {},
     "output_type": "execute_result"
    }
   ],
   "source": [
    "C = Tensor('C', 0, g)\n",
    "C()"
   ]
  },
  {
   "cell_type": "code",
   "execution_count": 43,
   "metadata": {
    "jupyter": {
     "outputs_hidden": false
    }
   },
   "outputs": [
    {
     "data": {
      "image/png": "[encoded data removed]",
      "text/latex": [
       "$\\displaystyle \\frac{\\partial}{\\partial t} C{\\left(t,r,\\theta,\\phi \\right)}$"
      ],
      "text/plain": [
       "∂                        \n",
       "──(C(t, r, \\theta, \\phi))\n",
       "∂t                       "
      ]
     },
     "execution_count": 43,
     "metadata": {},
     "output_type": "execute_result"
    }
   ],
   "source": [
    "C.covariantD(1)"
   ]
  },
  {
   "cell_type": "code",
   "execution_count": 44,
   "metadata": {
    "jupyter": {
     "outputs_hidden": false
    }
   },
   "outputs": [
    {
     "data": {
      "image/png": "[encoded data removed]",
      "text/latex": [
       "$\\displaystyle \\frac{r \\frac{\\partial^{2}}{\\partial r\\partial \\theta} C{\\left(t,r,\\theta,\\phi \\right)} - \\frac{\\partial}{\\partial \\theta} C{\\left(t,r,\\theta,\\phi \\right)}}{r}$"
      ],
      "text/plain": [
       "       2                                                            \n",
       "      ∂                                  ∂                          \n",
       "r⋅──────────(C(t, r, \\theta, \\phi)) - ───────(C(t, r, \\theta, \\phi))\n",
       "  ∂r ∂\\theta                          ∂\\theta                       \n",
       "────────────────────────────────────────────────────────────────────\n",
       "                                 r                                  "
      ]
     },
     "execution_count": 44,
     "metadata": {},
     "output_type": "execute_result"
    }
   ],
   "source": [
    "C.covariantD(2, 3)"
   ]
  },
  {
   "cell_type": "markdown",
   "metadata": {},
   "source": [
    "All _covariantD_ components of every _Tensor_ object are also memoized"
   ]
  },
  {
   "cell_type": "code",
   "execution_count": 45,
   "metadata": {
    "jupyter": {
     "outputs_hidden": false
    }
   },
   "outputs": [
    {
     "data": {
      "text/latex": [
       "$\\displaystyle (1,): \\frac{\\partial}{\\partial t} C{\\left(t,r,\\theta,\\phi \\right)}$"
      ],
      "text/plain": [
       "<IPython.core.display.Math object>"
      ]
     },
     "metadata": {},
     "output_type": "display_data"
    },
    {
     "data": {
      "text/latex": [
       "$\\displaystyle (2,): \\frac{\\partial}{\\partial r} C{\\left(t,r,\\theta,\\phi \\right)}$"
      ],
      "text/plain": [
       "<IPython.core.display.Math object>"
      ]
     },
     "metadata": {},
     "output_type": "display_data"
    },
    {
     "data": {
      "text/latex": [
       "$\\displaystyle (3,): \\frac{\\partial}{\\partial \\theta} C{\\left(t,r,\\theta,\\phi \\right)}$"
      ],
      "text/plain": [
       "<IPython.core.display.Math object>"
      ]
     },
     "metadata": {},
     "output_type": "display_data"
    },
    {
     "data": {
      "text/latex": [
       "$\\displaystyle (4,): \\frac{\\partial}{\\partial \\phi} C{\\left(t,r,\\theta,\\phi \\right)}$"
      ],
      "text/plain": [
       "<IPython.core.display.Math object>"
      ]
     },
     "metadata": {},
     "output_type": "display_data"
    },
    {
     "data": {
      "text/latex": [
       "$\\displaystyle (2, 3): \\frac{r \\frac{\\partial^{2}}{\\partial r\\partial \\theta} C{\\left(t,r,\\theta,\\phi \\right)} - \\frac{\\partial}{\\partial \\theta} C{\\left(t,r,\\theta,\\phi \\right)}}{r}$"
      ],
      "text/plain": [
       "<IPython.core.display.Math object>"
      ]
     },
     "metadata": {},
     "output_type": "display_data"
    }
   ],
   "source": [
    "for k in C.covariant_derivative_components:\n",
    "    display(Math(str(k) + ': '\n",
    "                 + latex(C.covariant_derivative_components[k])))"
   ]
  },
  {
   "cell_type": "code",
   "execution_count": 46,
   "metadata": {
    "jupyter": {
     "outputs_hidden": false
    }
   },
   "outputs": [
    {
     "data": {
      "image/png": "[encoded data removed]",
      "text/latex": [
       "$\\displaystyle \\frac{G M \\frac{\\partial^{2}}{\\partial t\\partial \\theta} C{\\left(t,r,\\theta,\\phi \\right)} + r \\left(2 G M - c^{2} r\\right) \\frac{\\partial^{3}}{\\partial t\\partial r\\partial \\theta} C{\\left(t,r,\\theta,\\phi \\right)} - \\left(2 G M - c^{2} r\\right) \\frac{\\partial^{2}}{\\partial t\\partial \\theta} C{\\left(t,r,\\theta,\\phi \\right)}}{r \\left(2 G M - c^{2} r\\right)}$"
      ],
      "text/plain": [
       "         2                                                      3             \n",
       "        ∂                                 ⎛         2  ⎞       ∂              \n",
       "G⋅M⋅──────────(C(t, r, \\theta, \\phi)) + r⋅⎝2⋅G⋅M - c ⋅r⎠⋅─────────────(C(t, r,\n",
       "    ∂t ∂\\theta                                           ∂t ∂r ∂\\theta        \n",
       "──────────────────────────────────────────────────────────────────────────────\n",
       "                                                                  ⎛         2 \n",
       "                                                                r⋅⎝2⋅G⋅M - c ⋅\n",
       "\n",
       "                                      2                           \n",
       "                  ⎛         2  ⎞     ∂                            \n",
       " \\theta, \\phi)) - ⎝2⋅G⋅M - c ⋅r⎠⋅──────────(C(t, r, \\theta, \\phi))\n",
       "                                 ∂t ∂\\theta                       \n",
       "──────────────────────────────────────────────────────────────────\n",
       " ⎞                                                                \n",
       "r⎠                                                                "
      ]
     },
     "execution_count": 46,
     "metadata": {},
     "output_type": "execute_result"
    }
   ],
   "source": [
    "C.covariantD(1, 2, 3)"
   ]
  },
  {
   "cell_type": "markdown",
   "metadata": {},
   "source": [
    "Proof that the covariant derivative of the metric tensor $g$ is zero"
   ]
  },
  {
   "cell_type": "code",
   "execution_count": 47,
   "metadata": {
    "jupyter": {
     "outputs_hidden": false
    }
   },
   "outputs": [
    {
     "data": {
      "text/plain": [
       "True"
      ]
     },
     "execution_count": 47,
     "metadata": {},
     "output_type": "execute_result"
    }
   ],
   "source": [
    "not any([g.covariantD(i, j, k).simplify()\n",
    "         for i, j, k in list(variations(range(1, 5), 3, True))])"
   ]
  },
  {
   "cell_type": "markdown",
   "metadata": {},
   "source": [
    "Bianchi identity in the Schwarzschild spacetime"
   ]
  },
  {
   "cell_type": "markdown",
   "metadata": {},
   "source": [
    "$$ R_{\\mu \\nu \\sigma \\rho ;\\gamma} + R_{\\mu \\nu \\gamma \\sigma ;\\rho} + R_{\\mu \\nu \\rho \\gamma ;\\sigma} = 0$$"
   ]
  },
  {
   "cell_type": "code",
   "execution_count": 48,
   "metadata": {},
   "outputs": [
    {
     "data": {
      "text/plain": [
       "True"
      ]
     },
     "execution_count": 48,
     "metadata": {},
     "output_type": "execute_result"
    }
   ],
   "source": [
    "not any([(Rm.covariantD(i, j, k, l, m) + Rm.covariantD(i, j, m, k, l)\n",
    "          + Rm.covariantD(i, j, l, m, k)).simplify()\n",
    "         for i, j, k, l, m in list(variations(range(1, 5), 5, True))])"
   ]
  },
  {
   "cell_type": "markdown",
   "metadata": {},
   "source": [
    "## User-defined tensors"
   ]
  },
  {
   "cell_type": "markdown",
   "metadata": {},
   "source": [
    "To define a new scalar/vector/tensor field in some space you should __extend__ the _Tensor_ class or __create an instance__ of the _Tensor_ class."
   ]
  },
  {
   "cell_type": "markdown",
   "metadata": {},
   "source": [
    "### _Tensor_ class instantiation"
   ]
  },
  {
   "cell_type": "markdown",
   "metadata": {},
   "source": [
    "Let's create a third-rank tensor field living in the Schwarzshild spacetime as an instance of the _Tensor_ class"
   ]
  },
  {
   "cell_type": "code",
   "execution_count": 49,
   "metadata": {
    "jupyter": {
     "outputs_hidden": false
    }
   },
   "outputs": [],
   "source": [
    "S = Tensor('S', 3, g)"
   ]
  },
  {
   "cell_type": "markdown",
   "metadata": {},
   "source": [
    "Until you define (override) the _\\_compute\\_covariant\\_component_ method of the __S__ object, all of $4^3$ components are arbitrary functions of coordinates "
   ]
  },
  {
   "cell_type": "code",
   "execution_count": 50,
   "metadata": {
    "jupyter": {
     "outputs_hidden": false
    }
   },
   "outputs": [
    {
     "data": {
      "image/png": "[encoded data removed]",
      "text/latex": [
       "$\\displaystyle \\operatorname{S(1, 2, 3)}{\\left(t,r,\\theta,\\phi \\right)}$"
      ],
      "text/plain": [
       "S(1, 2, 3)(t, r, \\theta, \\phi)"
      ]
     },
     "execution_count": 50,
     "metadata": {},
     "output_type": "execute_result"
    }
   ],
   "source": [
    "S(1, 2, 3)"
   ]
  },
  {
   "cell_type": "code",
   "execution_count": 51,
   "metadata": {
    "jupyter": {
     "outputs_hidden": false
    }
   },
   "outputs": [
    {
     "data": {
      "text/plain": [
       "(['    def _compute_covariant_component(self, idxs):\\n',\n",
       "  '        if len(idxs) == 0:\\n',\n",
       "  '            component = Function(str(self.symbol))(*self.coords.c)\\n',\n",
       "  '        elif len(idxs) == 1:\\n',\n",
       "  '            component = Function(str(self.symbol) +\\n',\n",
       "  \"                                 '(' + str(idxs[0]) + ')')(*self.coords.c)\\n\",\n",
       "  '        else:\\n',\n",
       "  '            component = Function(str(self.symbol) + str(idxs))(*self.coords.c)\\n',\n",
       "  '        return component\\n'],\n",
       " 157)"
      ]
     },
     "execution_count": 51,
     "metadata": {},
     "output_type": "execute_result"
    }
   ],
   "source": [
    "inspect.getsourcelines(T._compute_covariant_component)"
   ]
  },
  {
   "cell_type": "markdown",
   "metadata": {},
   "source": [
    "Let's assume that tensor __S__ is the commutator of the covariant derivatives of some arbitrary vector field __V__ and create a new _\\_compute\\_covariant\\_component_ method for the object __S__"
   ]
  },
  {
   "cell_type": "code",
   "execution_count": 52,
   "metadata": {
    "jupyter": {
     "outputs_hidden": false
    }
   },
   "outputs": [
    {
     "data": {
      "image/png": "[encoded data removed]",
      "text/latex": [
       "$\\displaystyle \\left[\\begin{matrix}\\operatorname{V(1)}{\\left(t,r,\\theta,\\phi \\right)} & \\operatorname{V(2)}{\\left(t,r,\\theta,\\phi \\right)} & \\operatorname{V(3)}{\\left(t,r,\\theta,\\phi \\right)} & \\operatorname{V(4)}{\\left(t,r,\\theta,\\phi \\right)}\\end{matrix}\\right]$"
      ],
      "text/plain": [
       "[V(1)(t, r, \\theta, \\phi)  V(2)(t, r, \\theta, \\phi)  V(3)(t, r, \\theta, \\phi) \n",
       " V(4)(t, r, \\theta, \\phi)]"
      ]
     },
     "execution_count": 52,
     "metadata": {},
     "output_type": "execute_result"
    }
   ],
   "source": [
    "V = Tensor('V', 1, g)\n",
    "V(All)"
   ]
  },
  {
   "cell_type": "code",
   "execution_count": 53,
   "metadata": {
    "jupyter": {
     "outputs_hidden": false
    }
   },
   "outputs": [],
   "source": [
    "def S_new_method(idxs): # definition\n",
    "    component = (V.covariantD(idxs[0], idxs[1], idxs[2])\n",
    "                 - V.covariantD(idxs[0], idxs[2], idxs[1])).simplify()\n",
    "    S.components.update({idxs: component}) # memoization\n",
    "    return component\n",
    "S._compute_covariant_component = S_new_method\n",
    "# _compute_covariant_component method was overriden"
   ]
  },
  {
   "cell_type": "code",
   "execution_count": 54,
   "metadata": {
    "jupyter": {
     "outputs_hidden": false
    }
   },
   "outputs": [
    {
     "data": {
      "image/png": "[encoded data removed]",
      "text/latex": [
       "$\\displaystyle \\frac{G M \\left(2 G M - c^{2} r\\right) \\operatorname{V(3)}{\\left(t,r,\\theta,\\phi \\right)}}{c^{2} r^{4}}$"
      ],
      "text/plain": [
       "    ⎛         2  ⎞                         \n",
       "G⋅M⋅⎝2⋅G⋅M - c ⋅r⎠⋅V(3)(t, r, \\theta, \\phi)\n",
       "───────────────────────────────────────────\n",
       "                    2  4                   \n",
       "                   c ⋅r                    "
      ]
     },
     "execution_count": 54,
     "metadata": {},
     "output_type": "execute_result"
    }
   ],
   "source": [
    "S(1, 1, 3)"
   ]
  },
  {
   "cell_type": "markdown",
   "metadata": {},
   "source": [
    "One can check that the well known formula is correct"
   ]
  },
  {
   "cell_type": "markdown",
   "metadata": {},
   "source": [
    "$$ V_{\\mu ;\\nu \\rho} - V_{\\mu ;\\rho \\nu} = R^{\\sigma}_{\\ \\mu \\nu \\rho}V_{\\sigma} $$"
   ]
  },
  {
   "cell_type": "code",
   "execution_count": 55,
   "metadata": {
    "jupyter": {
     "outputs_hidden": false
    }
   },
   "outputs": [
    {
     "data": {
      "image/png": "[encoded data removed]",
      "text/latex": [
       "$\\displaystyle \\left[\\begin{matrix}\\left[\\begin{matrix}0 & 0 & 0 & 0\\\\0 & 0 & 0 & 0\\\\0 & 0 & 0 & 0\\\\0 & 0 & 0 & 0\\end{matrix}\\right] & \\left[\\begin{matrix}0 & 0 & 0 & 0\\\\0 & 0 & 0 & 0\\\\0 & 0 & 0 & 0\\\\0 & 0 & 0 & 0\\end{matrix}\\right] & \\left[\\begin{matrix}0 & 0 & 0 & 0\\\\0 & 0 & 0 & 0\\\\0 & 0 & 0 & 0\\\\0 & 0 & 0 & 0\\end{matrix}\\right] & \\left[\\begin{matrix}0 & 0 & 0 & 0\\\\0 & 0 & 0 & 0\\\\0 & 0 & 0 & 0\\\\0 & 0 & 0 & 0\\end{matrix}\\right]\\end{matrix}\\right]$"
      ],
      "text/plain": [
       "⎡⎡0  0  0  0⎤  ⎡0  0  0  0⎤  ⎡0  0  0  0⎤  ⎡0  0  0  0⎤⎤\n",
       "⎢⎢          ⎥  ⎢          ⎥  ⎢          ⎥  ⎢          ⎥⎥\n",
       "⎢⎢0  0  0  0⎥  ⎢0  0  0  0⎥  ⎢0  0  0  0⎥  ⎢0  0  0  0⎥⎥\n",
       "⎢⎢          ⎥  ⎢          ⎥  ⎢          ⎥  ⎢          ⎥⎥\n",
       "⎢⎢0  0  0  0⎥  ⎢0  0  0  0⎥  ⎢0  0  0  0⎥  ⎢0  0  0  0⎥⎥\n",
       "⎢⎢          ⎥  ⎢          ⎥  ⎢          ⎥  ⎢          ⎥⎥\n",
       "⎣⎣0  0  0  0⎦  ⎣0  0  0  0⎦  ⎣0  0  0  0⎦  ⎣0  0  0  0⎦⎦"
      ]
     },
     "execution_count": 55,
     "metadata": {},
     "output_type": "execute_result"
    }
   ],
   "source": [
    "zeros = reduce(Matrix.add, [Rm(-i, All, All, All)*V(i)\n",
    "                            for i  in range(1, 5)]) - S(All, All, All)\n",
    "zeros.simplify()\n",
    "zeros"
   ]
  },
  {
   "cell_type": "markdown",
   "metadata": {},
   "source": [
    "Another way of tensor creation is to make an instance of the _Tensor_ class with components option. Tensor components stored in _Matrix_ object are  writen to the _components_ dictionary of the instance by this method. "
   ]
  },
  {
   "cell_type": "code",
   "execution_count": 56,
   "metadata": {
    "jupyter": {
     "outputs_hidden": false
    }
   },
   "outputs": [],
   "source": [
    "Z = Tensor('Z', 3, g, components=zeros, components_type=(1, 1, 1))"
   ]
  },
  {
   "cell_type": "code",
   "execution_count": 57,
   "metadata": {
    "jupyter": {
     "outputs_hidden": false
    }
   },
   "outputs": [
    {
     "data": {
      "text/plain": [
       "True"
      ]
     },
     "execution_count": 57,
     "metadata": {},
     "output_type": "execute_result"
    }
   ],
   "source": [
    "not any(Z.components.values())"
   ]
  },
  {
   "cell_type": "markdown",
   "metadata": {},
   "source": [
    "### _Tensor_ class extension"
   ]
  },
  {
   "cell_type": "markdown",
   "metadata": {},
   "source": [
    "As an example of the _Tensor_ class extension you can get the source code of any of the predefined _Tensor_ subclasses"
   ]
  },
  {
   "cell_type": "code",
   "execution_count": 58,
   "metadata": {
    "jupyter": {
     "outputs_hidden": false
    }
   },
   "outputs": [
    {
     "name": "stdout",
     "output_type": "stream",
     "text": [
      "['Christoffel', 'Ricci', 'Riemann', 'Einstein', 'Geodesic']\n"
     ]
    }
   ],
   "source": [
    "print([cls.__name__ for cls in vars()['Tensor'].__subclasses__()])"
   ]
  },
  {
   "cell_type": "code",
   "execution_count": 59,
   "metadata": {
    "jupyter": {
     "outputs_hidden": false
    }
   },
   "outputs": [
    {
     "data": {
      "text/plain": [
       "(['class Christoffel(Tensor):\\n',\n",
       "  '    r\"\"\"Christoffel.\\n',\n",
       "  '\\n',\n",
       "  '    Represents a class of Christoffel symbols of the first and second kind.\\n',\n",
       "  '\\n',\n",
       "  '    Parameters\\n',\n",
       "  '    ==========\\n',\n",
       "  '\\n',\n",
       "  '    symbol : python string - name of the Christoffel symbol\\n',\n",
       "  '    metric : GraviPy MtricTensor object\\n',\n",
       "  '\\n',\n",
       "  '    Examples\\n',\n",
       "  '    ========\\n',\n",
       "  '\\n',\n",
       "  '    Define a Christoffel symbols for the Schwarzschild metric:\\n',\n",
       "  '\\n',\n",
       "  '    >>> from gravipy.tensorial import *\\n',\n",
       "  \"    >>> t, r, theta, phi = symbols('t, r, \\\\\\\\theta, \\\\phi')\\n\",\n",
       "  \"    >>> chi = Coordinates('\\\\chi', [t, r, theta, phi])\\n\",\n",
       "  \"    >>> M = Symbol('M')\\n\",\n",
       "  '    >>> Metric = diag(-(1 - 2 * M / r), 1 / (1 - 2 * M / r), r ** 2,\\n',\n",
       "  '    ...                  r ** 2 * sin(theta) ** 2)\\n',\n",
       "  \"    >>> g = MetricTensor('g', chi, Metric)\\n\",\n",
       "  \"    >>> Ga = Christoffel('Ga', g)\\n\",\n",
       "  '    >>> Ga(-1, 2, 1)\\n',\n",
       "  '    -M/(r*(2*M - r))\\n',\n",
       "  '    >>> Ga(2, All, All)\\n',\n",
       "  '    Matrix([\\n',\n",
       "  '    [M/r**2,               0,  0,                 0],\\n',\n",
       "  '    [     0, -M/(2*M - r)**2,  0,                 0],\\n',\n",
       "  '    [     0,               0, -r,                 0],\\n',\n",
       "  '    [     0,               0,  0, -r*sin(\\\\theta)**2]])\\n',\n",
       "  '    >>> Ga(1, -1, 2) # doctest: +IGNORE_EXCEPTION_DETAIL\\n',\n",
       "  '    Traceback (most recent call last):\\n',\n",
       "  '    GraviPyError: \"Tensor component Ga(1, -1, 2) doesn\\'t  exist\"\\n',\n",
       "  '\\n',\n",
       "  '    \"\"\"\\n',\n",
       "  '\\n',\n",
       "  '    def __init__(self, symbol, metric, *args, **kwargs):\\n',\n",
       "  '        super(Christoffel, self).__init__(\\n',\n",
       "  '            symbol, 3, metric, index_types=(0, 1, 1), *args, **kwargs)\\n',\n",
       "  '        self.is_connection = True\\n',\n",
       "  '        self.conn = self\\n',\n",
       "  '        self.metric.conn = self\\n',\n",
       "  '\\n',\n",
       "  '    def _compute_covariant_component(self, idxs):\\n',\n",
       "  '        component = Rational(1, 2) * (\\n',\n",
       "  '            self.metric(idxs[0], idxs[1]).diff(self.coords(-idxs[2])) +\\n',\n",
       "  '            self.metric(idxs[0], idxs[2]).diff(self.coords(-idxs[1])) -\\n',\n",
       "  '            self.metric(idxs[1], idxs[2]).diff(self.coords(-idxs[0]))) \\\\\\n',\n",
       "  '            .together().simplify()\\n',\n",
       "  '        self.components.update({idxs: component})\\n',\n",
       "  '        if self.apply_tensor_symmetry:\\n',\n",
       "  '            self.components.update({(idxs[0], idxs[2], idxs[1]): component})\\n',\n",
       "  '        return component\\n'],\n",
       " 515)"
      ]
     },
     "execution_count": 59,
     "metadata": {},
     "output_type": "execute_result"
    }
   ],
   "source": [
    "inspect.getsourcelines(Christoffel)"
   ]
  }
 ],
 "metadata": {
  "hide_input": false,
  "kernelspec": {
   "display_name": "Python 3",
   "language": "python",
   "name": "python3"
  },
  "language_info": {
   "codemirror_mode": {
    "name": "ipython",
    "version": 3
   },
   "file_extension": ".py",
   "mimetype": "text/x-python",
   "name": "python",
   "nbconvert_exporter": "python",
   "pygments_lexer": "ipython3",
   "version": "3.7.3"
  },
  "latex_envs": {
   "LaTeX_envs_menu_present": true,
   "autoclose": false,
   "autocomplete": true,
   "bibliofile": "biblio.bib",
   "cite_by": "apalike",
   "current_citInitial": 1,
   "eqLabelWithNumbers": true,
   "eqNumInitial": 1,
   "hotkeys": {
    "equation": "Ctrl-E",
    "itemize": "Ctrl-I"
   },
   "labels_anchors": false,
   "latex_user_defs": false,
   "report_style_numbering": false,
   "user_envs_cfg": false
  },
  "toc": {
   "base_numbering": 1,
   "nav_menu": {},
   "number_sections": true,
   "sideBar": true,
   "skip_h1_title": false,
   "title_cell": "Table of Contents",
   "title_sidebar": "Contents",
   "toc_cell": false,
   "toc_position": {},
   "toc_section_display": true,
   "toc_window_display": false
  },
  "varInspector": {
   "cols": {
    "lenName": 16,
    "lenType": 16,
    "lenVar": 40
   },
   "kernels_config": {
    "python": {
     "delete_cmd_postfix": "",
     "delete_cmd_prefix": "del ",
     "library": "var_list.py",
     "varRefreshCmd": "print(var_dic_list())"
    },
    "r": {
     "delete_cmd_postfix": ") ",
     "delete_cmd_prefix": "rm(",
     "library": "var_list.r",
     "varRefreshCmd": "cat(var_dic_list()) "
    }
   },
   "types_to_exclude": [
    "module",
    "function",
    "builtin_function_or_method",
    "instance",
    "_Feature"
   ],
   "window_display": false
  }
 },
 "nbformat": 4,
 "nbformat_minor": 4
}
